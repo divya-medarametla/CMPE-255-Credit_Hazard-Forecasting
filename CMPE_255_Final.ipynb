{
  "nbformat": 4,
  "nbformat_minor": 0,
  "metadata": {
    "colab": {
      "provenance": [],
      "collapsed_sections": [
        "gcKIbdwWLi8A",
        "x8p5My8Y6A8G",
        "jCoUBBILLsrx",
        "N1xTJJnpkeGu",
        "Fg9XHyneLpPb",
        "X4YG4U2Hn6at",
        "v_YdOHL3oGlZ",
        "7hDF24AbphL1",
        "6Daox8BNwSPc",
        "v_MUyTwTwmgu",
        "cU0hWRbRnpTR",
        "SOycpx4lxW-I",
        "3Vt6-oiO3X3_"
      ],
      "include_colab_link": true
    },
    "kernelspec": {
      "name": "python3",
      "display_name": "Python 3"
    },
    "language_info": {
      "name": "python"
    }
  },
  "cells": [
    {
      "cell_type": "markdown",
      "metadata": {
        "id": "view-in-github",
        "colab_type": "text"
      },
      "source": [
        "<a href=\"https://colab.research.google.com/github/divya-medarametla/CMPE-255-Credit_Hazard-Forecasting/blob/main/CMPE_255_Final.ipynb\" target=\"_parent\"><img src=\"https://colab.research.google.com/assets/colab-badge.svg\" alt=\"Open In Colab\"/></a>"
      ]
    },
    {
      "cell_type": "markdown",
      "source": [
        "#IMPORTS"
      ],
      "metadata": {
        "id": "79vG5A3a5Dho"
      }
    },
    {
      "cell_type": "markdown",
      "source": [
        "Credit Hazard Forecasting"
      ],
      "metadata": {
        "id": "Nlfsp6YotdNf"
      }
    },
    {
      "cell_type": "markdown",
      "source": [
        "Banks lose a significant amount of money as a result of credit defaults, and it is ultimately ordinary customers who bear the brunt of this error. Credit Risk Analysis is used by banks to ensure that credit is supplied to a trustworthy consumer. Credit risk is defined as the risk of defaulting on a loan as a result of the borrower's failure to make mandatory debt payments on time. The lender assumes this risk because the lender loses both the capital and the interest on the loan.\n",
        "\n",
        "Machine Learning-based credit risk analysis eliminates the time-consuming human process of assessing numerous criteria and conditions on which credit can be granted. In the process, it also eliminates the human factor of mathematical mistake and corruption.\n",
        "\n",
        "From this project we aim to build a model to predict whether a person is eligible to get a credit or not. The decision depends on his/her banking history and other parameters mentioned below."
      ],
      "metadata": {
        "id": "3eid6B_ktfN3"
      }
    },
    {
      "cell_type": "markdown",
      "source": [
        "Data Set"
      ],
      "metadata": {
        "id": "OrgSEs8zugGt"
      }
    },
    {
      "cell_type": "markdown",
      "source": [
        "The dataset we are using has data for 32,581 borrowers and 12 features related to each of them. Below listed are the features.\n",
        "\n",
        "From the dataset, we can see that the 'loan_status' is the target variable with '1' - the borrower will default on the loan and '0' - the borrower will not.\n",
        "\n",
        "Numerical Vairables:\n",
        "person_age, person_income, person_emp_length, loan_amnt, loan_int_rate, loan_percent_income, cb_preson_cred_hist_length.\n",
        "\n",
        "Categorical Variables:\n",
        "person_home_ownership, loan_intent, loan_grade, cb_person_default_on_file, loan_status.\n",
        "\n",
        "In the data, we have missing values from the 'personemplength' and 'loan_int_rate' columns. But the missing values are a small percentage of the data, So we can remove those rows that have the missing values."
      ],
      "metadata": {
        "id": "E2XGKkmZuEtO"
      }
    },
    {
      "cell_type": "markdown",
      "source": [
        "Source Dataset:"
      ],
      "metadata": {
        "id": "zBROK2UfusXs"
      }
    },
    {
      "cell_type": "markdown",
      "source": [
        "https://www.kaggle.com/datasets/laotse/credit-risk-dataset"
      ],
      "metadata": {
        "id": "pLPNWv33ut-K"
      }
    },
    {
      "cell_type": "code",
      "execution_count": null,
      "metadata": {
        "id": "y9OvGeqRFUsV"
      },
      "outputs": [],
      "source": [
        "import pandas as pd\n",
        "import numpy as np\n",
        "import seaborn as sns\n",
        "import matplotlib.pyplot as plt\n",
        "import plotly.express as px"
      ]
    },
    {
      "cell_type": "code",
      "source": [
        "from sklearn.preprocessing import OneHotEncoder"
      ],
      "metadata": {
        "id": "pZ7Y5x-6sAz5"
      },
      "execution_count": null,
      "outputs": []
    },
    {
      "cell_type": "code",
      "source": [
        "from sklearn.metrics import balanced_accuracy_score"
      ],
      "metadata": {
        "id": "r6wQsCgpFrZy"
      },
      "execution_count": null,
      "outputs": []
    },
    {
      "cell_type": "code",
      "source": [
        "import os\n",
        "import subprocess\n",
        "import pandas as pd\n",
        "import numpy as np\n",
        "import matplotlib.pyplot as plt\n",
        "%matplotlib inline\n",
        "import warnings\n",
        "warnings.filterwarnings('ignore')\n",
        "import seaborn as sns\n",
        "from sklearn.model_selection import train_test_split\n",
        "from sklearn.preprocessing import StandardScaler\n",
        "from imblearn.over_sampling import SMOTE\n",
        "from imblearn.under_sampling import NeighbourhoodCleaningRule\n",
        "from imblearn.under_sampling import NearMiss\n",
        "from sklearn.feature_selection import RFE\n",
        "from sklearn.ensemble import RandomForestClassifier\n",
        "from sklearn.model_selection import RandomizedSearchCV\n",
        "from sklearn.discriminant_analysis import LinearDiscriminantAnalysis as LDA\n",
        "from sklearn.decomposition import PCA, KernelPCA\n",
        "from sklearn.tree import DecisionTreeClassifier\n",
        "from sklearn import tree\n",
        "from sklearn.svm import SVC\n",
        "from sklearn.neighbors import KNeighborsClassifier\n",
        "from sklearn.pipeline import Pipeline\n",
        "from sklearn.metrics import confusion_matrix, ConfusionMatrixDisplay, classification_report\n",
        "from sklearn.metrics import accuracy_score\n",
        "from sklearn.metrics import precision_score\n",
        "from sklearn.metrics import recall_score\n",
        "from sklearn.metrics import f1_score\n",
        "from sklearn.metrics import roc_auc_score\n",
        "from sklearn.metrics import cohen_kappa_score\n",
        "from sklearn import metrics\n",
        "from sklearn.model_selection import GridSearchCV\n",
        "from sklearn.metrics import roc_curve, auc\n",
        "from sklearn.metrics import roc_auc_score\n",
        "import pickle"
      ],
      "metadata": {
        "id": "JwfHUtDSwaeH"
      },
      "execution_count": null,
      "outputs": []
    },
    {
      "cell_type": "markdown",
      "source": [
        "##Reading data"
      ],
      "metadata": {
        "id": "gcKIbdwWLi8A"
      }
    },
    {
      "cell_type": "code",
      "source": [
        "base_credit = pd.read_csv('/content/credit_risk_dataset.csv')"
      ],
      "metadata": {
        "id": "l8bkDS_yJVkj"
      },
      "execution_count": null,
      "outputs": []
    },
    {
      "cell_type": "code",
      "source": [
        "base_credit.head()"
      ],
      "metadata": {
        "colab": {
          "base_uri": "https://localhost:8080/",
          "height": 270
        },
        "id": "8Z0MYhZfJyef",
        "outputId": "2ebc67c2-ed17-4bcb-ce11-646a414fbf01"
      },
      "execution_count": null,
      "outputs": [
        {
          "output_type": "execute_result",
          "data": {
            "text/plain": [
              "   person_age  person_income person_home_ownership  person_emp_length  \\\n",
              "0          22          59000                  RENT              123.0   \n",
              "1          21           9600                   OWN                5.0   \n",
              "2          25           9600              MORTGAGE                1.0   \n",
              "3          23          65500                  RENT                4.0   \n",
              "4          24          54400                  RENT                8.0   \n",
              "\n",
              "  loan_intent loan_grade  loan_amnt  loan_int_rate  loan_status  \\\n",
              "0    PERSONAL          D      35000          16.02            1   \n",
              "1   EDUCATION          B       1000          11.14            0   \n",
              "2     MEDICAL          C       5500          12.87            1   \n",
              "3     MEDICAL          C      35000          15.23            1   \n",
              "4     MEDICAL          C      35000          14.27            1   \n",
              "\n",
              "   loan_percent_income cb_person_default_on_file  cb_person_cred_hist_length  \n",
              "0                 0.59                         Y                           3  \n",
              "1                 0.10                         N                           2  \n",
              "2                 0.57                         N                           3  \n",
              "3                 0.53                         N                           2  \n",
              "4                 0.55                         Y                           4  "
            ],
            "text/html": [
              "\n",
              "  <div id=\"df-b8d5d384-8cab-4259-b832-902da79a05b0\">\n",
              "    <div class=\"colab-df-container\">\n",
              "      <div>\n",
              "<style scoped>\n",
              "    .dataframe tbody tr th:only-of-type {\n",
              "        vertical-align: middle;\n",
              "    }\n",
              "\n",
              "    .dataframe tbody tr th {\n",
              "        vertical-align: top;\n",
              "    }\n",
              "\n",
              "    .dataframe thead th {\n",
              "        text-align: right;\n",
              "    }\n",
              "</style>\n",
              "<table border=\"1\" class=\"dataframe\">\n",
              "  <thead>\n",
              "    <tr style=\"text-align: right;\">\n",
              "      <th></th>\n",
              "      <th>person_age</th>\n",
              "      <th>person_income</th>\n",
              "      <th>person_home_ownership</th>\n",
              "      <th>person_emp_length</th>\n",
              "      <th>loan_intent</th>\n",
              "      <th>loan_grade</th>\n",
              "      <th>loan_amnt</th>\n",
              "      <th>loan_int_rate</th>\n",
              "      <th>loan_status</th>\n",
              "      <th>loan_percent_income</th>\n",
              "      <th>cb_person_default_on_file</th>\n",
              "      <th>cb_person_cred_hist_length</th>\n",
              "    </tr>\n",
              "  </thead>\n",
              "  <tbody>\n",
              "    <tr>\n",
              "      <th>0</th>\n",
              "      <td>22</td>\n",
              "      <td>59000</td>\n",
              "      <td>RENT</td>\n",
              "      <td>123.0</td>\n",
              "      <td>PERSONAL</td>\n",
              "      <td>D</td>\n",
              "      <td>35000</td>\n",
              "      <td>16.02</td>\n",
              "      <td>1</td>\n",
              "      <td>0.59</td>\n",
              "      <td>Y</td>\n",
              "      <td>3</td>\n",
              "    </tr>\n",
              "    <tr>\n",
              "      <th>1</th>\n",
              "      <td>21</td>\n",
              "      <td>9600</td>\n",
              "      <td>OWN</td>\n",
              "      <td>5.0</td>\n",
              "      <td>EDUCATION</td>\n",
              "      <td>B</td>\n",
              "      <td>1000</td>\n",
              "      <td>11.14</td>\n",
              "      <td>0</td>\n",
              "      <td>0.10</td>\n",
              "      <td>N</td>\n",
              "      <td>2</td>\n",
              "    </tr>\n",
              "    <tr>\n",
              "      <th>2</th>\n",
              "      <td>25</td>\n",
              "      <td>9600</td>\n",
              "      <td>MORTGAGE</td>\n",
              "      <td>1.0</td>\n",
              "      <td>MEDICAL</td>\n",
              "      <td>C</td>\n",
              "      <td>5500</td>\n",
              "      <td>12.87</td>\n",
              "      <td>1</td>\n",
              "      <td>0.57</td>\n",
              "      <td>N</td>\n",
              "      <td>3</td>\n",
              "    </tr>\n",
              "    <tr>\n",
              "      <th>3</th>\n",
              "      <td>23</td>\n",
              "      <td>65500</td>\n",
              "      <td>RENT</td>\n",
              "      <td>4.0</td>\n",
              "      <td>MEDICAL</td>\n",
              "      <td>C</td>\n",
              "      <td>35000</td>\n",
              "      <td>15.23</td>\n",
              "      <td>1</td>\n",
              "      <td>0.53</td>\n",
              "      <td>N</td>\n",
              "      <td>2</td>\n",
              "    </tr>\n",
              "    <tr>\n",
              "      <th>4</th>\n",
              "      <td>24</td>\n",
              "      <td>54400</td>\n",
              "      <td>RENT</td>\n",
              "      <td>8.0</td>\n",
              "      <td>MEDICAL</td>\n",
              "      <td>C</td>\n",
              "      <td>35000</td>\n",
              "      <td>14.27</td>\n",
              "      <td>1</td>\n",
              "      <td>0.55</td>\n",
              "      <td>Y</td>\n",
              "      <td>4</td>\n",
              "    </tr>\n",
              "  </tbody>\n",
              "</table>\n",
              "</div>\n",
              "      <button class=\"colab-df-convert\" onclick=\"convertToInteractive('df-b8d5d384-8cab-4259-b832-902da79a05b0')\"\n",
              "              title=\"Convert this dataframe to an interactive table.\"\n",
              "              style=\"display:none;\">\n",
              "        \n",
              "  <svg xmlns=\"http://www.w3.org/2000/svg\" height=\"24px\"viewBox=\"0 0 24 24\"\n",
              "       width=\"24px\">\n",
              "    <path d=\"M0 0h24v24H0V0z\" fill=\"none\"/>\n",
              "    <path d=\"M18.56 5.44l.94 2.06.94-2.06 2.06-.94-2.06-.94-.94-2.06-.94 2.06-2.06.94zm-11 1L8.5 8.5l.94-2.06 2.06-.94-2.06-.94L8.5 2.5l-.94 2.06-2.06.94zm10 10l.94 2.06.94-2.06 2.06-.94-2.06-.94-.94-2.06-.94 2.06-2.06.94z\"/><path d=\"M17.41 7.96l-1.37-1.37c-.4-.4-.92-.59-1.43-.59-.52 0-1.04.2-1.43.59L10.3 9.45l-7.72 7.72c-.78.78-.78 2.05 0 2.83L4 21.41c.39.39.9.59 1.41.59.51 0 1.02-.2 1.41-.59l7.78-7.78 2.81-2.81c.8-.78.8-2.07 0-2.86zM5.41 20L4 18.59l7.72-7.72 1.47 1.35L5.41 20z\"/>\n",
              "  </svg>\n",
              "      </button>\n",
              "      \n",
              "  <style>\n",
              "    .colab-df-container {\n",
              "      display:flex;\n",
              "      flex-wrap:wrap;\n",
              "      gap: 12px;\n",
              "    }\n",
              "\n",
              "    .colab-df-convert {\n",
              "      background-color: #E8F0FE;\n",
              "      border: none;\n",
              "      border-radius: 50%;\n",
              "      cursor: pointer;\n",
              "      display: none;\n",
              "      fill: #1967D2;\n",
              "      height: 32px;\n",
              "      padding: 0 0 0 0;\n",
              "      width: 32px;\n",
              "    }\n",
              "\n",
              "    .colab-df-convert:hover {\n",
              "      background-color: #E2EBFA;\n",
              "      box-shadow: 0px 1px 2px rgba(60, 64, 67, 0.3), 0px 1px 3px 1px rgba(60, 64, 67, 0.15);\n",
              "      fill: #174EA6;\n",
              "    }\n",
              "\n",
              "    [theme=dark] .colab-df-convert {\n",
              "      background-color: #3B4455;\n",
              "      fill: #D2E3FC;\n",
              "    }\n",
              "\n",
              "    [theme=dark] .colab-df-convert:hover {\n",
              "      background-color: #434B5C;\n",
              "      box-shadow: 0px 1px 3px 1px rgba(0, 0, 0, 0.15);\n",
              "      filter: drop-shadow(0px 1px 2px rgba(0, 0, 0, 0.3));\n",
              "      fill: #FFFFFF;\n",
              "    }\n",
              "  </style>\n",
              "\n",
              "      <script>\n",
              "        const buttonEl =\n",
              "          document.querySelector('#df-b8d5d384-8cab-4259-b832-902da79a05b0 button.colab-df-convert');\n",
              "        buttonEl.style.display =\n",
              "          google.colab.kernel.accessAllowed ? 'block' : 'none';\n",
              "\n",
              "        async function convertToInteractive(key) {\n",
              "          const element = document.querySelector('#df-b8d5d384-8cab-4259-b832-902da79a05b0');\n",
              "          const dataTable =\n",
              "            await google.colab.kernel.invokeFunction('convertToInteractive',\n",
              "                                                     [key], {});\n",
              "          if (!dataTable) return;\n",
              "\n",
              "          const docLinkHtml = 'Like what you see? Visit the ' +\n",
              "            '<a target=\"_blank\" href=https://colab.research.google.com/notebooks/data_table.ipynb>data table notebook</a>'\n",
              "            + ' to learn more about interactive tables.';\n",
              "          element.innerHTML = '';\n",
              "          dataTable['output_type'] = 'display_data';\n",
              "          await google.colab.output.renderOutput(dataTable, element);\n",
              "          const docLink = document.createElement('div');\n",
              "          docLink.innerHTML = docLinkHtml;\n",
              "          element.appendChild(docLink);\n",
              "        }\n",
              "      </script>\n",
              "    </div>\n",
              "  </div>\n",
              "  "
            ]
          },
          "metadata": {},
          "execution_count": 168
        }
      ]
    },
    {
      "cell_type": "code",
      "source": [
        "base_credit.info()"
      ],
      "metadata": {
        "colab": {
          "base_uri": "https://localhost:8080/"
        },
        "id": "4YfvPmgfJ5Q3",
        "outputId": "cfa1fe74-a910-4039-eb29-ab8c32b833db"
      },
      "execution_count": null,
      "outputs": [
        {
          "output_type": "stream",
          "name": "stdout",
          "text": [
            "<class 'pandas.core.frame.DataFrame'>\n",
            "RangeIndex: 32581 entries, 0 to 32580\n",
            "Data columns (total 12 columns):\n",
            " #   Column                      Non-Null Count  Dtype  \n",
            "---  ------                      --------------  -----  \n",
            " 0   person_age                  32581 non-null  int64  \n",
            " 1   person_income               32581 non-null  int64  \n",
            " 2   person_home_ownership       32581 non-null  object \n",
            " 3   person_emp_length           31686 non-null  float64\n",
            " 4   loan_intent                 32581 non-null  object \n",
            " 5   loan_grade                  32581 non-null  object \n",
            " 6   loan_amnt                   32581 non-null  int64  \n",
            " 7   loan_int_rate               29465 non-null  float64\n",
            " 8   loan_status                 32581 non-null  int64  \n",
            " 9   loan_percent_income         32581 non-null  float64\n",
            " 10  cb_person_default_on_file   32581 non-null  object \n",
            " 11  cb_person_cred_hist_length  32581 non-null  int64  \n",
            "dtypes: float64(3), int64(5), object(4)\n",
            "memory usage: 3.0+ MB\n"
          ]
        }
      ]
    },
    {
      "cell_type": "markdown",
      "source": [
        "##EXPLORATORY DATA ANALYSIS"
      ],
      "metadata": {
        "id": "x8p5My8Y6A8G"
      }
    },
    {
      "cell_type": "markdown",
      "source": [
        "###univariate analysis of continuous variables"
      ],
      "metadata": {
        "id": "jCoUBBILLsrx"
      }
    },
    {
      "cell_type": "code",
      "source": [
        "measures_df = base_credit.select_dtypes(include='number')"
      ],
      "metadata": {
        "id": "W1rqbWY1MV0T",
        "outputId": "1a11baff-337a-45b0-eaac-b48d58f98907",
        "colab": {
          "base_uri": "https://localhost:8080/",
          "height": 165
        }
      },
      "execution_count": null,
      "outputs": [
        {
          "output_type": "error",
          "ename": "NameError",
          "evalue": "ignored",
          "traceback": [
            "\u001b[0;31m---------------------------------------------------------------------------\u001b[0m",
            "\u001b[0;31mNameError\u001b[0m                                 Traceback (most recent call last)",
            "\u001b[0;32m<ipython-input-1-9cb1a6d27358>\u001b[0m in \u001b[0;36m<module>\u001b[0;34m\u001b[0m\n\u001b[0;32m----> 1\u001b[0;31m \u001b[0mmeasures_df\u001b[0m \u001b[0;34m=\u001b[0m \u001b[0mbase_credit\u001b[0m\u001b[0;34m.\u001b[0m\u001b[0mselect_dtypes\u001b[0m\u001b[0;34m(\u001b[0m\u001b[0minclude\u001b[0m\u001b[0;34m=\u001b[0m\u001b[0;34m'number'\u001b[0m\u001b[0;34m)\u001b[0m\u001b[0;34m\u001b[0m\u001b[0;34m\u001b[0m\u001b[0m\n\u001b[0m",
            "\u001b[0;31mNameError\u001b[0m: name 'base_credit' is not defined"
          ]
        }
      ]
    },
    {
      "cell_type": "code",
      "source": [
        "measures_df"
      ],
      "metadata": {
        "id": "iGfKMw34OSle"
      },
      "execution_count": null,
      "outputs": []
    },
    {
      "cell_type": "code",
      "source": [
        "measures_df.describe()"
      ],
      "metadata": {
        "id": "mR2dygnkNdLc"
      },
      "execution_count": null,
      "outputs": []
    },
    {
      "cell_type": "code",
      "source": [
        "columns = list(measures_df.columns)\n",
        "columns.remove('loan_status')\n",
        "columns"
      ],
      "metadata": {
        "id": "2bxA-MvoQi5h"
      },
      "execution_count": null,
      "outputs": []
    },
    {
      "cell_type": "code",
      "source": [
        "grp = base_credit.groupby('loan_status')\n",
        "for col in columns:\n",
        "    plt.figure()\n",
        "    #plt.hist(base_credit[col], density = True)\n",
        "    grp[col].plot(kind='kde')\n",
        "    x = col\n",
        "    plt.xlabel(x)\n",
        "    y = 'Density'\n",
        "    plt.ylabel(y)\n",
        "    plt.title('Distribution of {xLabel}'.format(xLabel=x))"
      ],
      "metadata": {
        "id": "pEnQbrJJKSJh"
      },
      "execution_count": null,
      "outputs": []
    },
    {
      "cell_type": "markdown",
      "source": [
        "###bivariate analysis on numerical features"
      ],
      "metadata": {
        "id": "N1xTJJnpkeGu"
      }
    },
    {
      "cell_type": "code",
      "source": [
        "sns.pairplot(measures_df, hue = 'loan_status', corner = True)"
      ],
      "metadata": {
        "id": "TktH4TUoNS6W"
      },
      "execution_count": null,
      "outputs": []
    },
    {
      "cell_type": "code",
      "source": [
        "measures_df.boxplot(column = 'person_age', by='loan_status')"
      ],
      "metadata": {
        "id": "jRrAcwcia82O"
      },
      "execution_count": null,
      "outputs": []
    },
    {
      "cell_type": "code",
      "source": [
        "measures_df.boxplot(column=['person_age'],by='loan_status')"
      ],
      "metadata": {
        "id": "PPs0FXYKb9Hn"
      },
      "execution_count": null,
      "outputs": []
    },
    {
      "cell_type": "code",
      "source": [
        "base_credit['person_home_ownership'].value_counts()"
      ],
      "metadata": {
        "id": "qcXSF5OVkpes"
      },
      "execution_count": null,
      "outputs": []
    },
    {
      "cell_type": "code",
      "source": [
        "base_credit['loan_intent'].value_counts()"
      ],
      "metadata": {
        "id": "D25icqJ6mTNg"
      },
      "execution_count": null,
      "outputs": []
    },
    {
      "cell_type": "code",
      "source": [
        "base_credit['loan_grade'].value_counts()"
      ],
      "metadata": {
        "id": "EbD8ZEzlmaSa"
      },
      "execution_count": null,
      "outputs": []
    },
    {
      "cell_type": "code",
      "source": [
        "base_credit['cb_person_default_on_file'].value_counts()"
      ],
      "metadata": {
        "id": "JC4biCN1mcsj"
      },
      "execution_count": null,
      "outputs": []
    },
    {
      "cell_type": "code",
      "source": [
        "sns.boxplot(data=base_credit, x=\"person_age\", y=\"cb_person_default_on_file\", hue=\"loan_status\")"
      ],
      "metadata": {
        "id": "j6fp7ZvymfxI"
      },
      "execution_count": null,
      "outputs": []
    },
    {
      "cell_type": "markdown",
      "source": [
        "##PREPROCESSING"
      ],
      "metadata": {
        "id": "gDyaws8X5nz6"
      }
    },
    {
      "cell_type": "markdown",
      "source": [
        "###dropping null valued rows"
      ],
      "metadata": {
        "id": "Fg9XHyneLpPb"
      }
    },
    {
      "cell_type": "code",
      "source": [
        "base_credit.isnull().sum()"
      ],
      "metadata": {
        "colab": {
          "base_uri": "https://localhost:8080/"
        },
        "id": "QadVTg0EJ7Zl",
        "outputId": "e2e59368-8ca0-4ecd-aed9-1815338de590"
      },
      "execution_count": null,
      "outputs": [
        {
          "output_type": "execute_result",
          "data": {
            "text/plain": [
              "person_age                       0\n",
              "person_income                    0\n",
              "person_home_ownership            0\n",
              "person_emp_length              895\n",
              "loan_intent                      0\n",
              "loan_grade                       0\n",
              "loan_amnt                        0\n",
              "loan_int_rate                 3116\n",
              "loan_status                      0\n",
              "loan_percent_income              0\n",
              "cb_person_default_on_file        0\n",
              "cb_person_cred_hist_length       0\n",
              "dtype: int64"
            ]
          },
          "metadata": {},
          "execution_count": 185
        }
      ]
    },
    {
      "cell_type": "code",
      "source": [
        "base_credit = base_credit.dropna()"
      ],
      "metadata": {
        "id": "VhUWPBv6KL-E"
      },
      "execution_count": null,
      "outputs": []
    },
    {
      "cell_type": "code",
      "source": [
        "base_credit.describe()"
      ],
      "metadata": {
        "colab": {
          "base_uri": "https://localhost:8080/"
        },
        "id": "H-WuT_VFKGfT",
        "outputId": "6b87ec76-f0d9-4c85-cc4b-e200db81682a"
      },
      "execution_count": null,
      "outputs": [
        {
          "output_type": "execute_result",
          "data": {
            "text/plain": [
              "         person_age  person_income  person_emp_length     loan_amnt  \\\n",
              "count  28638.000000   2.863800e+04       28638.000000  28638.000000   \n",
              "mean      27.727216   6.664937e+04           4.788672   9656.493121   \n",
              "std        6.310441   6.235645e+04           4.154627   6329.683361   \n",
              "min       20.000000   4.000000e+03           0.000000    500.000000   \n",
              "25%       23.000000   3.948000e+04           2.000000   5000.000000   \n",
              "50%       26.000000   5.595600e+04           4.000000   8000.000000   \n",
              "75%       30.000000   8.000000e+04           7.000000  12500.000000   \n",
              "max      144.000000   6.000000e+06         123.000000  35000.000000   \n",
              "\n",
              "       loan_int_rate   loan_status  loan_percent_income  \\\n",
              "count   28638.000000  28638.000000         28638.000000   \n",
              "mean       11.039867      0.216600             0.169488   \n",
              "std         3.229372      0.411935             0.106393   \n",
              "min         5.420000      0.000000             0.000000   \n",
              "25%         7.900000      0.000000             0.090000   \n",
              "50%        10.990000      0.000000             0.150000   \n",
              "75%        13.480000      0.000000             0.230000   \n",
              "max        23.220000      1.000000             0.830000   \n",
              "\n",
              "       cb_person_cred_hist_length  \n",
              "count                28638.000000  \n",
              "mean                     5.793736  \n",
              "std                      4.038483  \n",
              "min                      2.000000  \n",
              "25%                      3.000000  \n",
              "50%                      4.000000  \n",
              "75%                      8.000000  \n",
              "max                     30.000000  "
            ],
            "text/html": [
              "\n",
              "  <div id=\"df-2d8cda48-228d-4e01-a7fa-09f512b308a6\">\n",
              "    <div class=\"colab-df-container\">\n",
              "      <div>\n",
              "<style scoped>\n",
              "    .dataframe tbody tr th:only-of-type {\n",
              "        vertical-align: middle;\n",
              "    }\n",
              "\n",
              "    .dataframe tbody tr th {\n",
              "        vertical-align: top;\n",
              "    }\n",
              "\n",
              "    .dataframe thead th {\n",
              "        text-align: right;\n",
              "    }\n",
              "</style>\n",
              "<table border=\"1\" class=\"dataframe\">\n",
              "  <thead>\n",
              "    <tr style=\"text-align: right;\">\n",
              "      <th></th>\n",
              "      <th>person_age</th>\n",
              "      <th>person_income</th>\n",
              "      <th>person_emp_length</th>\n",
              "      <th>loan_amnt</th>\n",
              "      <th>loan_int_rate</th>\n",
              "      <th>loan_status</th>\n",
              "      <th>loan_percent_income</th>\n",
              "      <th>cb_person_cred_hist_length</th>\n",
              "    </tr>\n",
              "  </thead>\n",
              "  <tbody>\n",
              "    <tr>\n",
              "      <th>count</th>\n",
              "      <td>28638.000000</td>\n",
              "      <td>2.863800e+04</td>\n",
              "      <td>28638.000000</td>\n",
              "      <td>28638.000000</td>\n",
              "      <td>28638.000000</td>\n",
              "      <td>28638.000000</td>\n",
              "      <td>28638.000000</td>\n",
              "      <td>28638.000000</td>\n",
              "    </tr>\n",
              "    <tr>\n",
              "      <th>mean</th>\n",
              "      <td>27.727216</td>\n",
              "      <td>6.664937e+04</td>\n",
              "      <td>4.788672</td>\n",
              "      <td>9656.493121</td>\n",
              "      <td>11.039867</td>\n",
              "      <td>0.216600</td>\n",
              "      <td>0.169488</td>\n",
              "      <td>5.793736</td>\n",
              "    </tr>\n",
              "    <tr>\n",
              "      <th>std</th>\n",
              "      <td>6.310441</td>\n",
              "      <td>6.235645e+04</td>\n",
              "      <td>4.154627</td>\n",
              "      <td>6329.683361</td>\n",
              "      <td>3.229372</td>\n",
              "      <td>0.411935</td>\n",
              "      <td>0.106393</td>\n",
              "      <td>4.038483</td>\n",
              "    </tr>\n",
              "    <tr>\n",
              "      <th>min</th>\n",
              "      <td>20.000000</td>\n",
              "      <td>4.000000e+03</td>\n",
              "      <td>0.000000</td>\n",
              "      <td>500.000000</td>\n",
              "      <td>5.420000</td>\n",
              "      <td>0.000000</td>\n",
              "      <td>0.000000</td>\n",
              "      <td>2.000000</td>\n",
              "    </tr>\n",
              "    <tr>\n",
              "      <th>25%</th>\n",
              "      <td>23.000000</td>\n",
              "      <td>3.948000e+04</td>\n",
              "      <td>2.000000</td>\n",
              "      <td>5000.000000</td>\n",
              "      <td>7.900000</td>\n",
              "      <td>0.000000</td>\n",
              "      <td>0.090000</td>\n",
              "      <td>3.000000</td>\n",
              "    </tr>\n",
              "    <tr>\n",
              "      <th>50%</th>\n",
              "      <td>26.000000</td>\n",
              "      <td>5.595600e+04</td>\n",
              "      <td>4.000000</td>\n",
              "      <td>8000.000000</td>\n",
              "      <td>10.990000</td>\n",
              "      <td>0.000000</td>\n",
              "      <td>0.150000</td>\n",
              "      <td>4.000000</td>\n",
              "    </tr>\n",
              "    <tr>\n",
              "      <th>75%</th>\n",
              "      <td>30.000000</td>\n",
              "      <td>8.000000e+04</td>\n",
              "      <td>7.000000</td>\n",
              "      <td>12500.000000</td>\n",
              "      <td>13.480000</td>\n",
              "      <td>0.000000</td>\n",
              "      <td>0.230000</td>\n",
              "      <td>8.000000</td>\n",
              "    </tr>\n",
              "    <tr>\n",
              "      <th>max</th>\n",
              "      <td>144.000000</td>\n",
              "      <td>6.000000e+06</td>\n",
              "      <td>123.000000</td>\n",
              "      <td>35000.000000</td>\n",
              "      <td>23.220000</td>\n",
              "      <td>1.000000</td>\n",
              "      <td>0.830000</td>\n",
              "      <td>30.000000</td>\n",
              "    </tr>\n",
              "  </tbody>\n",
              "</table>\n",
              "</div>\n",
              "      <button class=\"colab-df-convert\" onclick=\"convertToInteractive('df-2d8cda48-228d-4e01-a7fa-09f512b308a6')\"\n",
              "              title=\"Convert this dataframe to an interactive table.\"\n",
              "              style=\"display:none;\">\n",
              "        \n",
              "  <svg xmlns=\"http://www.w3.org/2000/svg\" height=\"24px\"viewBox=\"0 0 24 24\"\n",
              "       width=\"24px\">\n",
              "    <path d=\"M0 0h24v24H0V0z\" fill=\"none\"/>\n",
              "    <path d=\"M18.56 5.44l.94 2.06.94-2.06 2.06-.94-2.06-.94-.94-2.06-.94 2.06-2.06.94zm-11 1L8.5 8.5l.94-2.06 2.06-.94-2.06-.94L8.5 2.5l-.94 2.06-2.06.94zm10 10l.94 2.06.94-2.06 2.06-.94-2.06-.94-.94-2.06-.94 2.06-2.06.94z\"/><path d=\"M17.41 7.96l-1.37-1.37c-.4-.4-.92-.59-1.43-.59-.52 0-1.04.2-1.43.59L10.3 9.45l-7.72 7.72c-.78.78-.78 2.05 0 2.83L4 21.41c.39.39.9.59 1.41.59.51 0 1.02-.2 1.41-.59l7.78-7.78 2.81-2.81c.8-.78.8-2.07 0-2.86zM5.41 20L4 18.59l7.72-7.72 1.47 1.35L5.41 20z\"/>\n",
              "  </svg>\n",
              "      </button>\n",
              "      \n",
              "  <style>\n",
              "    .colab-df-container {\n",
              "      display:flex;\n",
              "      flex-wrap:wrap;\n",
              "      gap: 12px;\n",
              "    }\n",
              "\n",
              "    .colab-df-convert {\n",
              "      background-color: #E8F0FE;\n",
              "      border: none;\n",
              "      border-radius: 50%;\n",
              "      cursor: pointer;\n",
              "      display: none;\n",
              "      fill: #1967D2;\n",
              "      height: 32px;\n",
              "      padding: 0 0 0 0;\n",
              "      width: 32px;\n",
              "    }\n",
              "\n",
              "    .colab-df-convert:hover {\n",
              "      background-color: #E2EBFA;\n",
              "      box-shadow: 0px 1px 2px rgba(60, 64, 67, 0.3), 0px 1px 3px 1px rgba(60, 64, 67, 0.15);\n",
              "      fill: #174EA6;\n",
              "    }\n",
              "\n",
              "    [theme=dark] .colab-df-convert {\n",
              "      background-color: #3B4455;\n",
              "      fill: #D2E3FC;\n",
              "    }\n",
              "\n",
              "    [theme=dark] .colab-df-convert:hover {\n",
              "      background-color: #434B5C;\n",
              "      box-shadow: 0px 1px 3px 1px rgba(0, 0, 0, 0.15);\n",
              "      filter: drop-shadow(0px 1px 2px rgba(0, 0, 0, 0.3));\n",
              "      fill: #FFFFFF;\n",
              "    }\n",
              "  </style>\n",
              "\n",
              "      <script>\n",
              "        const buttonEl =\n",
              "          document.querySelector('#df-2d8cda48-228d-4e01-a7fa-09f512b308a6 button.colab-df-convert');\n",
              "        buttonEl.style.display =\n",
              "          google.colab.kernel.accessAllowed ? 'block' : 'none';\n",
              "\n",
              "        async function convertToInteractive(key) {\n",
              "          const element = document.querySelector('#df-2d8cda48-228d-4e01-a7fa-09f512b308a6');\n",
              "          const dataTable =\n",
              "            await google.colab.kernel.invokeFunction('convertToInteractive',\n",
              "                                                     [key], {});\n",
              "          if (!dataTable) return;\n",
              "\n",
              "          const docLinkHtml = 'Like what you see? Visit the ' +\n",
              "            '<a target=\"_blank\" href=https://colab.research.google.com/notebooks/data_table.ipynb>data table notebook</a>'\n",
              "            + ' to learn more about interactive tables.';\n",
              "          element.innerHTML = '';\n",
              "          dataTable['output_type'] = 'display_data';\n",
              "          await google.colab.output.renderOutput(dataTable, element);\n",
              "          const docLink = document.createElement('div');\n",
              "          docLink.innerHTML = docLinkHtml;\n",
              "          element.appendChild(docLink);\n",
              "        }\n",
              "      </script>\n",
              "    </div>\n",
              "  </div>\n",
              "  "
            ]
          },
          "metadata": {},
          "execution_count": 187
        }
      ]
    },
    {
      "cell_type": "markdown",
      "source": [
        "###outliers"
      ],
      "metadata": {
        "id": "X4YG4U2Hn6at"
      }
    },
    {
      "cell_type": "code",
      "source": [
        "for column in measures_df:\n",
        "        plt.figure(figsize=(12,0.8))\n",
        "        sns.boxplot(data=measures_df, x=column,palette=\"Paired\")\n",
        "        plt.title(f'{column}''s Distribution')  "
      ],
      "metadata": {
        "colab": {
          "base_uri": "https://localhost:8080/"
        },
        "id": "Fn_62fBTn8Fd",
        "outputId": "45dc9e34-1c26-453a-9700-a6e0f4a7d230"
      },
      "execution_count": null,
      "outputs": [
        {
          "output_type": "display_data",
          "data": {
            "text/plain": [
              "<Figure size 864x57.6 with 1 Axes>"
            ],
            "image/png": "[encoded data removed]"
          },
          "metadata": {
            "needs_background": "light"
          }
        },
        {
          "output_type": "display_data",
          "data": {
            "text/plain": [
              "<Figure size 864x57.6 with 1 Axes>"
            ],
            "image/png": "[encoded data removed]"
          },
          "metadata": {
            "needs_background": "light"
          }
        },
        {
          "output_type": "display_data",
          "data": {
            "text/plain": [
              "<Figure size 864x57.6 with 1 Axes>"
            ],
            "image/png": "[encoded data removed]"
          },
          "metadata": {
            "needs_background": "light"
          }
        },
        {
          "output_type": "display_data",
          "data": {
            "text/plain": [
              "<Figure size 864x57.6 with 1 Axes>"
            ],
            "image/png": "[encoded data removed]"
          },
          "metadata": {
            "needs_background": "light"
          }
        },
        {
          "output_type": "display_data",
          "data": {
            "text/plain": [
              "<Figure size 864x57.6 with 1 Axes>"
            ],
            "image/png": "[encoded data removed]"
          },
          "metadata": {
            "needs_background": "light"
          }
        },
        {
          "output_type": "display_data",
          "data": {
            "text/plain": [
              "<Figure size 864x57.6 with 1 Axes>"
            ],
            "image/png": "[encoded data removed]"
          },
          "metadata": {
            "needs_background": "light"
          }
        },
        {
          "output_type": "display_data",
          "data": {
            "text/plain": [
              "<Figure size 864x57.6 with 1 Axes>"
            ],
            "image/png": "[encoded data removed]"
          },
          "metadata": {
            "needs_background": "light"
          }
        },
        {
          "output_type": "display_data",
          "data": {
            "text/plain": [
              "<Figure size 864x57.6 with 1 Axes>"
            ],
            "image/png": "[encoded data removed]"
          },
          "metadata": {
            "needs_background": "light"
          }
        }
      ]
    },
    {
      "cell_type": "code",
      "source": [
        "for i in measures_df.columns:\n",
        "    print ('# of rows beyond range of 3 standard deviations in ', i)\n",
        "    print(len(measures_df[(measures_df[i] > measures_df[i].mean() + 3*measures_df[i].std()) | (measures_df[i] < measures_df[i].mean() - 3*measures_df[i].std())]))"
      ],
      "metadata": {
        "colab": {
          "base_uri": "https://localhost:8080/"
        },
        "id": "55e3bHAmoPwb",
        "outputId": "8841a8f8-340d-47d9-c09a-9673eb38b0ec"
      },
      "execution_count": null,
      "outputs": [
        {
          "output_type": "stream",
          "name": "stdout",
          "text": [
            "# of rows beyond range of 3 standard deviations in  person_age\n",
            "558\n",
            "# of rows beyond range of 3 standard deviations in  person_income\n",
            "233\n",
            "# of rows beyond range of 3 standard deviations in  person_emp_length\n",
            "321\n",
            "# of rows beyond range of 3 standard deviations in  loan_amnt\n",
            "337\n",
            "# of rows beyond range of 3 standard deviations in  loan_int_rate\n",
            "38\n",
            "# of rows beyond range of 3 standard deviations in  loan_status\n",
            "0\n",
            "# of rows beyond range of 3 standard deviations in  loan_percent_income\n",
            "336\n",
            "# of rows beyond range of 3 standard deviations in  cb_person_cred_hist_length\n",
            "284\n"
          ]
        }
      ]
    },
    {
      "cell_type": "markdown",
      "source": [
        "###eliminating outliers"
      ],
      "metadata": {
        "id": "v_YdOHL3oGlZ"
      }
    },
    {
      "cell_type": "code",
      "source": [
        "base_credit.shape"
      ],
      "metadata": {
        "colab": {
          "base_uri": "https://localhost:8080/"
        },
        "id": "_XBedtGOo-c_",
        "outputId": "34715f92-6159-4889-b2df-6a652fb4118c"
      },
      "execution_count": null,
      "outputs": [
        {
          "output_type": "execute_result",
          "data": {
            "text/plain": [
              "(28638, 12)"
            ]
          },
          "metadata": {},
          "execution_count": 190
        }
      ]
    },
    {
      "cell_type": "code",
      "source": [
        "for col in columns:\n",
        "  base_credit = base_credit[(base_credit[col] <= base_credit[col].mean() + 3*base_credit[col].std()) &\n",
        "        (base_credit[col] >= base_credit[col].mean() - 3*base_credit[col].std())]"
      ],
      "metadata": {
        "id": "97yzCB9uoKAa"
      },
      "execution_count": null,
      "outputs": []
    },
    {
      "cell_type": "code",
      "source": [
        "base_credit.shape"
      ],
      "metadata": {
        "colab": {
          "base_uri": "https://localhost:8080/"
        },
        "id": "EkummOV6o9cp",
        "outputId": "795fa809-e62a-4707-fdca-35fcad94e24c"
      },
      "execution_count": null,
      "outputs": [
        {
          "output_type": "execute_result",
          "data": {
            "text/plain": [
              "(26620, 12)"
            ]
          },
          "metadata": {},
          "execution_count": 192
        }
      ]
    },
    {
      "cell_type": "markdown",
      "source": [
        "###encoding"
      ],
      "metadata": {
        "id": "qYojjkMbtjrc"
      }
    },
    {
      "cell_type": "code",
      "source": [
        "base_credit.columns"
      ],
      "metadata": {
        "colab": {
          "base_uri": "https://localhost:8080/"
        },
        "id": "o459aj-ms5IH",
        "outputId": "13bff232-b244-4bb8-ce84-cb851b36ec22"
      },
      "execution_count": null,
      "outputs": [
        {
          "output_type": "execute_result",
          "data": {
            "text/plain": [
              "Index(['person_age', 'person_income', 'person_home_ownership',\n",
              "       'person_emp_length', 'loan_intent', 'loan_grade', 'loan_amnt',\n",
              "       'loan_int_rate', 'loan_status', 'loan_percent_income',\n",
              "       'cb_person_default_on_file', 'cb_person_cred_hist_length'],\n",
              "      dtype='object')"
            ]
          },
          "metadata": {},
          "execution_count": 193
        }
      ]
    },
    {
      "cell_type": "code",
      "source": [
        "base_credit['cb_person_default_on_file'] = base_credit['cb_person_default_on_file'].astype('category')\n",
        "base_credit['loan_grade'] = base_credit['loan_grade'].astype('category')\n",
        "base_credit['loan_intent'] = base_credit['loan_intent'].astype('category')\n",
        "base_credit['person_home_ownership'] = base_credit['person_home_ownership'].astype('category')"
      ],
      "metadata": {
        "id": "WKFgtJXGrlLh"
      },
      "execution_count": null,
      "outputs": []
    },
    {
      "cell_type": "code",
      "source": [
        "base_credit['cb_person_default_on_file_new'] = base_credit['cb_person_default_on_file'].cat.codes\n",
        "base_credit['loan_grade_new'] = base_credit['loan_grade'].cat.codes\n",
        "base_credit['loan_intent_new'] = base_credit['loan_intent'].cat.codes\n",
        "base_credit['person_home_ownership_new'] = base_credit['person_home_ownership'].cat.codes"
      ],
      "metadata": {
        "id": "rpdPn1GHtnj8"
      },
      "execution_count": null,
      "outputs": []
    },
    {
      "cell_type": "code",
      "source": [
        "base_credit['loan_intent_new'].head()"
      ],
      "metadata": {
        "colab": {
          "base_uri": "https://localhost:8080/"
        },
        "id": "YxCkVyLD1pmS",
        "outputId": "628364f8-4d35-46e6-e94d-ccadad49c65e"
      },
      "execution_count": null,
      "outputs": [
        {
          "output_type": "execute_result",
          "data": {
            "text/plain": [
              "1     1\n",
              "5     5\n",
              "9     5\n",
              "11    2\n",
              "19    1\n",
              "Name: loan_intent_new, dtype: int8"
            ]
          },
          "metadata": {},
          "execution_count": 196
        }
      ]
    },
    {
      "cell_type": "code",
      "source": [
        "enc=OneHotEncoder()\n",
        "enc_data=pd.DataFrame(enc.fit_transform(base_credit[['cb_person_default_on_file_new','loan_grade_new', 'loan_intent_new', 'person_home_ownership_new']]).toarray(), index=np.array(base_credit.index))"
      ],
      "metadata": {
        "id": "z-SNdka9t2cX"
      },
      "execution_count": null,
      "outputs": []
    },
    {
      "cell_type": "code",
      "source": [
        "np.array(base_credit.index)"
      ],
      "metadata": {
        "colab": {
          "base_uri": "https://localhost:8080/"
        },
        "id": "hZrxLt8P1zTy",
        "outputId": "e1c26ea6-576c-4340-e885-218f1e31106e"
      },
      "execution_count": null,
      "outputs": [
        {
          "output_type": "execute_result",
          "data": {
            "text/plain": [
              "array([    1,     5,     9, ..., 32293, 32295, 32296])"
            ]
          },
          "metadata": {},
          "execution_count": 198
        }
      ]
    },
    {
      "cell_type": "code",
      "source": [
        "enc_data.head()"
      ],
      "metadata": {
        "colab": {
          "base_uri": "https://localhost:8080/"
        },
        "id": "EsYOiOij1u4c",
        "outputId": "256876ff-e071-40f0-db6b-de6a002843d6"
      },
      "execution_count": null,
      "outputs": [
        {
          "output_type": "execute_result",
          "data": {
            "text/plain": [
              "     0    1    2    3    4    5    6    7    8    9    10   11   12   13   14  \\\n",
              "1   1.0  0.0  0.0  1.0  0.0  0.0  0.0  0.0  0.0  0.0  1.0  0.0  0.0  0.0  0.0   \n",
              "5   1.0  0.0  1.0  0.0  0.0  0.0  0.0  0.0  0.0  0.0  0.0  0.0  0.0  0.0  1.0   \n",
              "9   1.0  0.0  0.0  0.0  0.0  1.0  0.0  0.0  0.0  0.0  0.0  0.0  0.0  0.0  1.0   \n",
              "11  1.0  0.0  1.0  0.0  0.0  0.0  0.0  0.0  0.0  0.0  0.0  1.0  0.0  0.0  0.0   \n",
              "19  1.0  0.0  0.0  1.0  0.0  0.0  0.0  0.0  0.0  0.0  1.0  0.0  0.0  0.0  0.0   \n",
              "\n",
              "     15   16   17   18  \n",
              "1   0.0  0.0  1.0  0.0  \n",
              "5   0.0  0.0  1.0  0.0  \n",
              "9   0.0  0.0  1.0  0.0  \n",
              "11  0.0  0.0  1.0  0.0  \n",
              "19  1.0  0.0  0.0  0.0  "
            ],
            "text/html": [
              "\n",
              "  <div id=\"df-e85b70bc-ad11-4de3-8a0d-0d732e3e61ae\">\n",
              "    <div class=\"colab-df-container\">\n",
              "      <div>\n",
              "<style scoped>\n",
              "    .dataframe tbody tr th:only-of-type {\n",
              "        vertical-align: middle;\n",
              "    }\n",
              "\n",
              "    .dataframe tbody tr th {\n",
              "        vertical-align: top;\n",
              "    }\n",
              "\n",
              "    .dataframe thead th {\n",
              "        text-align: right;\n",
              "    }\n",
              "</style>\n",
              "<table border=\"1\" class=\"dataframe\">\n",
              "  <thead>\n",
              "    <tr style=\"text-align: right;\">\n",
              "      <th></th>\n",
              "      <th>0</th>\n",
              "      <th>1</th>\n",
              "      <th>2</th>\n",
              "      <th>3</th>\n",
              "      <th>4</th>\n",
              "      <th>5</th>\n",
              "      <th>6</th>\n",
              "      <th>7</th>\n",
              "      <th>8</th>\n",
              "      <th>9</th>\n",
              "      <th>10</th>\n",
              "      <th>11</th>\n",
              "      <th>12</th>\n",
              "      <th>13</th>\n",
              "      <th>14</th>\n",
              "      <th>15</th>\n",
              "      <th>16</th>\n",
              "      <th>17</th>\n",
              "      <th>18</th>\n",
              "    </tr>\n",
              "  </thead>\n",
              "  <tbody>\n",
              "    <tr>\n",
              "      <th>1</th>\n",
              "      <td>1.0</td>\n",
              "      <td>0.0</td>\n",
              "      <td>0.0</td>\n",
              "      <td>1.0</td>\n",
              "      <td>0.0</td>\n",
              "      <td>0.0</td>\n",
              "      <td>0.0</td>\n",
              "      <td>0.0</td>\n",
              "      <td>0.0</td>\n",
              "      <td>0.0</td>\n",
              "      <td>1.0</td>\n",
              "      <td>0.0</td>\n",
              "      <td>0.0</td>\n",
              "      <td>0.0</td>\n",
              "      <td>0.0</td>\n",
              "      <td>0.0</td>\n",
              "      <td>0.0</td>\n",
              "      <td>1.0</td>\n",
              "      <td>0.0</td>\n",
              "    </tr>\n",
              "    <tr>\n",
              "      <th>5</th>\n",
              "      <td>1.0</td>\n",
              "      <td>0.0</td>\n",
              "      <td>1.0</td>\n",
              "      <td>0.0</td>\n",
              "      <td>0.0</td>\n",
              "      <td>0.0</td>\n",
              "      <td>0.0</td>\n",
              "      <td>0.0</td>\n",
              "      <td>0.0</td>\n",
              "      <td>0.0</td>\n",
              "      <td>0.0</td>\n",
              "      <td>0.0</td>\n",
              "      <td>0.0</td>\n",
              "      <td>0.0</td>\n",
              "      <td>1.0</td>\n",
              "      <td>0.0</td>\n",
              "      <td>0.0</td>\n",
              "      <td>1.0</td>\n",
              "      <td>0.0</td>\n",
              "    </tr>\n",
              "    <tr>\n",
              "      <th>9</th>\n",
              "      <td>1.0</td>\n",
              "      <td>0.0</td>\n",
              "      <td>0.0</td>\n",
              "      <td>0.0</td>\n",
              "      <td>0.0</td>\n",
              "      <td>1.0</td>\n",
              "      <td>0.0</td>\n",
              "      <td>0.0</td>\n",
              "      <td>0.0</td>\n",
              "      <td>0.0</td>\n",
              "      <td>0.0</td>\n",
              "      <td>0.0</td>\n",
              "      <td>0.0</td>\n",
              "      <td>0.0</td>\n",
              "      <td>1.0</td>\n",
              "      <td>0.0</td>\n",
              "      <td>0.0</td>\n",
              "      <td>1.0</td>\n",
              "      <td>0.0</td>\n",
              "    </tr>\n",
              "    <tr>\n",
              "      <th>11</th>\n",
              "      <td>1.0</td>\n",
              "      <td>0.0</td>\n",
              "      <td>1.0</td>\n",
              "      <td>0.0</td>\n",
              "      <td>0.0</td>\n",
              "      <td>0.0</td>\n",
              "      <td>0.0</td>\n",
              "      <td>0.0</td>\n",
              "      <td>0.0</td>\n",
              "      <td>0.0</td>\n",
              "      <td>0.0</td>\n",
              "      <td>1.0</td>\n",
              "      <td>0.0</td>\n",
              "      <td>0.0</td>\n",
              "      <td>0.0</td>\n",
              "      <td>0.0</td>\n",
              "      <td>0.0</td>\n",
              "      <td>1.0</td>\n",
              "      <td>0.0</td>\n",
              "    </tr>\n",
              "    <tr>\n",
              "      <th>19</th>\n",
              "      <td>1.0</td>\n",
              "      <td>0.0</td>\n",
              "      <td>0.0</td>\n",
              "      <td>1.0</td>\n",
              "      <td>0.0</td>\n",
              "      <td>0.0</td>\n",
              "      <td>0.0</td>\n",
              "      <td>0.0</td>\n",
              "      <td>0.0</td>\n",
              "      <td>0.0</td>\n",
              "      <td>1.0</td>\n",
              "      <td>0.0</td>\n",
              "      <td>0.0</td>\n",
              "      <td>0.0</td>\n",
              "      <td>0.0</td>\n",
              "      <td>1.0</td>\n",
              "      <td>0.0</td>\n",
              "      <td>0.0</td>\n",
              "      <td>0.0</td>\n",
              "    </tr>\n",
              "  </tbody>\n",
              "</table>\n",
              "</div>\n",
              "      <button class=\"colab-df-convert\" onclick=\"convertToInteractive('df-e85b70bc-ad11-4de3-8a0d-0d732e3e61ae')\"\n",
              "              title=\"Convert this dataframe to an interactive table.\"\n",
              "              style=\"display:none;\">\n",
              "        \n",
              "  <svg xmlns=\"http://www.w3.org/2000/svg\" height=\"24px\"viewBox=\"0 0 24 24\"\n",
              "       width=\"24px\">\n",
              "    <path d=\"M0 0h24v24H0V0z\" fill=\"none\"/>\n",
              "    <path d=\"M18.56 5.44l.94 2.06.94-2.06 2.06-.94-2.06-.94-.94-2.06-.94 2.06-2.06.94zm-11 1L8.5 8.5l.94-2.06 2.06-.94-2.06-.94L8.5 2.5l-.94 2.06-2.06.94zm10 10l.94 2.06.94-2.06 2.06-.94-2.06-.94-.94-2.06-.94 2.06-2.06.94z\"/><path d=\"M17.41 7.96l-1.37-1.37c-.4-.4-.92-.59-1.43-.59-.52 0-1.04.2-1.43.59L10.3 9.45l-7.72 7.72c-.78.78-.78 2.05 0 2.83L4 21.41c.39.39.9.59 1.41.59.51 0 1.02-.2 1.41-.59l7.78-7.78 2.81-2.81c.8-.78.8-2.07 0-2.86zM5.41 20L4 18.59l7.72-7.72 1.47 1.35L5.41 20z\"/>\n",
              "  </svg>\n",
              "      </button>\n",
              "      \n",
              "  <style>\n",
              "    .colab-df-container {\n",
              "      display:flex;\n",
              "      flex-wrap:wrap;\n",
              "      gap: 12px;\n",
              "    }\n",
              "\n",
              "    .colab-df-convert {\n",
              "      background-color: #E8F0FE;\n",
              "      border: none;\n",
              "      border-radius: 50%;\n",
              "      cursor: pointer;\n",
              "      display: none;\n",
              "      fill: #1967D2;\n",
              "      height: 32px;\n",
              "      padding: 0 0 0 0;\n",
              "      width: 32px;\n",
              "    }\n",
              "\n",
              "    .colab-df-convert:hover {\n",
              "      background-color: #E2EBFA;\n",
              "      box-shadow: 0px 1px 2px rgba(60, 64, 67, 0.3), 0px 1px 3px 1px rgba(60, 64, 67, 0.15);\n",
              "      fill: #174EA6;\n",
              "    }\n",
              "\n",
              "    [theme=dark] .colab-df-convert {\n",
              "      background-color: #3B4455;\n",
              "      fill: #D2E3FC;\n",
              "    }\n",
              "\n",
              "    [theme=dark] .colab-df-convert:hover {\n",
              "      background-color: #434B5C;\n",
              "      box-shadow: 0px 1px 3px 1px rgba(0, 0, 0, 0.15);\n",
              "      filter: drop-shadow(0px 1px 2px rgba(0, 0, 0, 0.3));\n",
              "      fill: #FFFFFF;\n",
              "    }\n",
              "  </style>\n",
              "\n",
              "      <script>\n",
              "        const buttonEl =\n",
              "          document.querySelector('#df-e85b70bc-ad11-4de3-8a0d-0d732e3e61ae button.colab-df-convert');\n",
              "        buttonEl.style.display =\n",
              "          google.colab.kernel.accessAllowed ? 'block' : 'none';\n",
              "\n",
              "        async function convertToInteractive(key) {\n",
              "          const element = document.querySelector('#df-e85b70bc-ad11-4de3-8a0d-0d732e3e61ae');\n",
              "          const dataTable =\n",
              "            await google.colab.kernel.invokeFunction('convertToInteractive',\n",
              "                                                     [key], {});\n",
              "          if (!dataTable) return;\n",
              "\n",
              "          const docLinkHtml = 'Like what you see? Visit the ' +\n",
              "            '<a target=\"_blank\" href=https://colab.research.google.com/notebooks/data_table.ipynb>data table notebook</a>'\n",
              "            + ' to learn more about interactive tables.';\n",
              "          element.innerHTML = '';\n",
              "          dataTable['output_type'] = 'display_data';\n",
              "          await google.colab.output.renderOutput(dataTable, element);\n",
              "          const docLink = document.createElement('div');\n",
              "          docLink.innerHTML = docLinkHtml;\n",
              "          element.appendChild(docLink);\n",
              "        }\n",
              "      </script>\n",
              "    </div>\n",
              "  </div>\n",
              "  "
            ]
          },
          "metadata": {},
          "execution_count": 199
        }
      ]
    },
    {
      "cell_type": "code",
      "source": [
        "New_df=base_credit.join(enc_data)"
      ],
      "metadata": {
        "id": "J7ryTwyiuNP3"
      },
      "execution_count": null,
      "outputs": []
    },
    {
      "cell_type": "code",
      "source": [
        "New_df.columns"
      ],
      "metadata": {
        "colab": {
          "base_uri": "https://localhost:8080/"
        },
        "id": "IeB6QAXjuoIF",
        "outputId": "46cd25dd-1b0a-484d-abc2-d0794245e839"
      },
      "execution_count": null,
      "outputs": [
        {
          "output_type": "execute_result",
          "data": {
            "text/plain": [
              "Index([                   'person_age',                 'person_income',\n",
              "               'person_home_ownership',             'person_emp_length',\n",
              "                         'loan_intent',                    'loan_grade',\n",
              "                           'loan_amnt',                 'loan_int_rate',\n",
              "                         'loan_status',           'loan_percent_income',\n",
              "           'cb_person_default_on_file',    'cb_person_cred_hist_length',\n",
              "       'cb_person_default_on_file_new',                'loan_grade_new',\n",
              "                     'loan_intent_new',     'person_home_ownership_new',\n",
              "                                     0,                               1,\n",
              "                                     2,                               3,\n",
              "                                     4,                               5,\n",
              "                                     6,                               7,\n",
              "                                     8,                               9,\n",
              "                                    10,                              11,\n",
              "                                    12,                              13,\n",
              "                                    14,                              15,\n",
              "                                    16,                              17,\n",
              "                                    18],\n",
              "      dtype='object')"
            ]
          },
          "metadata": {},
          "execution_count": 201
        }
      ]
    },
    {
      "cell_type": "code",
      "source": [
        "New_df = New_df.drop(columns=['cb_person_default_on_file', 'loan_grade', 'loan_intent', 'person_home_ownership'])"
      ],
      "metadata": {
        "id": "pnulajvfuvry"
      },
      "execution_count": null,
      "outputs": []
    },
    {
      "cell_type": "code",
      "source": [
        "New_df.columns"
      ],
      "metadata": {
        "colab": {
          "base_uri": "https://localhost:8080/"
        },
        "id": "cXdv9bZVvU7k",
        "outputId": "42b39876-e76f-46b5-9455-8a6e46b5d7dc"
      },
      "execution_count": null,
      "outputs": [
        {
          "output_type": "execute_result",
          "data": {
            "text/plain": [
              "Index([                   'person_age',                 'person_income',\n",
              "                   'person_emp_length',                     'loan_amnt',\n",
              "                       'loan_int_rate',                   'loan_status',\n",
              "                 'loan_percent_income',    'cb_person_cred_hist_length',\n",
              "       'cb_person_default_on_file_new',                'loan_grade_new',\n",
              "                     'loan_intent_new',     'person_home_ownership_new',\n",
              "                                     0,                               1,\n",
              "                                     2,                               3,\n",
              "                                     4,                               5,\n",
              "                                     6,                               7,\n",
              "                                     8,                               9,\n",
              "                                    10,                              11,\n",
              "                                    12,                              13,\n",
              "                                    14,                              15,\n",
              "                                    16,                              17,\n",
              "                                    18],\n",
              "      dtype='object')"
            ]
          },
          "metadata": {},
          "execution_count": 203
        }
      ]
    },
    {
      "cell_type": "code",
      "source": [
        "New_df.head()"
      ],
      "metadata": {
        "colab": {
          "base_uri": "https://localhost:8080/"
        },
        "id": "S_oWWLSl38sW",
        "outputId": "47d60e64-8bfe-4378-93d0-05bfddca7bc1"
      },
      "execution_count": null,
      "outputs": [
        {
          "output_type": "execute_result",
          "data": {
            "text/plain": [
              "    person_age  person_income  person_emp_length  loan_amnt  loan_int_rate  \\\n",
              "1           21           9600                5.0       1000          11.14   \n",
              "5           21           9900                2.0       2500           7.14   \n",
              "9           21          10000                6.0       1600          14.74   \n",
              "11          21          10000                2.0       4500           8.63   \n",
              "19          24          10800                8.0       1750          10.99   \n",
              "\n",
              "    loan_status  loan_percent_income  cb_person_cred_hist_length  \\\n",
              "1             0                 0.10                           2   \n",
              "5             1                 0.25                           2   \n",
              "9             1                 0.16                           3   \n",
              "11            1                 0.45                           2   \n",
              "19            1                 0.16                           2   \n",
              "\n",
              "    cb_person_default_on_file_new  loan_grade_new  ...    9   10   11   12  \\\n",
              "1                               0               1  ...  0.0  1.0  0.0  0.0   \n",
              "5                               0               0  ...  0.0  0.0  0.0  0.0   \n",
              "9                               0               3  ...  0.0  0.0  0.0  0.0   \n",
              "11                              0               0  ...  0.0  0.0  1.0  0.0   \n",
              "19                              0               1  ...  0.0  1.0  0.0  0.0   \n",
              "\n",
              "     13   14   15   16   17   18  \n",
              "1   0.0  0.0  0.0  0.0  1.0  0.0  \n",
              "5   0.0  1.0  0.0  0.0  1.0  0.0  \n",
              "9   0.0  1.0  0.0  0.0  1.0  0.0  \n",
              "11  0.0  0.0  0.0  0.0  1.0  0.0  \n",
              "19  0.0  0.0  1.0  0.0  0.0  0.0  \n",
              "\n",
              "[5 rows x 31 columns]"
            ],
            "text/html": [
              "\n",
              "  <div id=\"df-4698731d-7ef9-4b8b-a2c2-43d68d69f0fd\">\n",
              "    <div class=\"colab-df-container\">\n",
              "      <div>\n",
              "<style scoped>\n",
              "    .dataframe tbody tr th:only-of-type {\n",
              "        vertical-align: middle;\n",
              "    }\n",
              "\n",
              "    .dataframe tbody tr th {\n",
              "        vertical-align: top;\n",
              "    }\n",
              "\n",
              "    .dataframe thead th {\n",
              "        text-align: right;\n",
              "    }\n",
              "</style>\n",
              "<table border=\"1\" class=\"dataframe\">\n",
              "  <thead>\n",
              "    <tr style=\"text-align: right;\">\n",
              "      <th></th>\n",
              "      <th>person_age</th>\n",
              "      <th>person_income</th>\n",
              "      <th>person_emp_length</th>\n",
              "      <th>loan_amnt</th>\n",
              "      <th>loan_int_rate</th>\n",
              "      <th>loan_status</th>\n",
              "      <th>loan_percent_income</th>\n",
              "      <th>cb_person_cred_hist_length</th>\n",
              "      <th>cb_person_default_on_file_new</th>\n",
              "      <th>loan_grade_new</th>\n",
              "      <th>...</th>\n",
              "      <th>9</th>\n",
              "      <th>10</th>\n",
              "      <th>11</th>\n",
              "      <th>12</th>\n",
              "      <th>13</th>\n",
              "      <th>14</th>\n",
              "      <th>15</th>\n",
              "      <th>16</th>\n",
              "      <th>17</th>\n",
              "      <th>18</th>\n",
              "    </tr>\n",
              "  </thead>\n",
              "  <tbody>\n",
              "    <tr>\n",
              "      <th>1</th>\n",
              "      <td>21</td>\n",
              "      <td>9600</td>\n",
              "      <td>5.0</td>\n",
              "      <td>1000</td>\n",
              "      <td>11.14</td>\n",
              "      <td>0</td>\n",
              "      <td>0.10</td>\n",
              "      <td>2</td>\n",
              "      <td>0</td>\n",
              "      <td>1</td>\n",
              "      <td>...</td>\n",
              "      <td>0.0</td>\n",
              "      <td>1.0</td>\n",
              "      <td>0.0</td>\n",
              "      <td>0.0</td>\n",
              "      <td>0.0</td>\n",
              "      <td>0.0</td>\n",
              "      <td>0.0</td>\n",
              "      <td>0.0</td>\n",
              "      <td>1.0</td>\n",
              "      <td>0.0</td>\n",
              "    </tr>\n",
              "    <tr>\n",
              "      <th>5</th>\n",
              "      <td>21</td>\n",
              "      <td>9900</td>\n",
              "      <td>2.0</td>\n",
              "      <td>2500</td>\n",
              "      <td>7.14</td>\n",
              "      <td>1</td>\n",
              "      <td>0.25</td>\n",
              "      <td>2</td>\n",
              "      <td>0</td>\n",
              "      <td>0</td>\n",
              "      <td>...</td>\n",
              "      <td>0.0</td>\n",
              "      <td>0.0</td>\n",
              "      <td>0.0</td>\n",
              "      <td>0.0</td>\n",
              "      <td>0.0</td>\n",
              "      <td>1.0</td>\n",
              "      <td>0.0</td>\n",
              "      <td>0.0</td>\n",
              "      <td>1.0</td>\n",
              "      <td>0.0</td>\n",
              "    </tr>\n",
              "    <tr>\n",
              "      <th>9</th>\n",
              "      <td>21</td>\n",
              "      <td>10000</td>\n",
              "      <td>6.0</td>\n",
              "      <td>1600</td>\n",
              "      <td>14.74</td>\n",
              "      <td>1</td>\n",
              "      <td>0.16</td>\n",
              "      <td>3</td>\n",
              "      <td>0</td>\n",
              "      <td>3</td>\n",
              "      <td>...</td>\n",
              "      <td>0.0</td>\n",
              "      <td>0.0</td>\n",
              "      <td>0.0</td>\n",
              "      <td>0.0</td>\n",
              "      <td>0.0</td>\n",
              "      <td>1.0</td>\n",
              "      <td>0.0</td>\n",
              "      <td>0.0</td>\n",
              "      <td>1.0</td>\n",
              "      <td>0.0</td>\n",
              "    </tr>\n",
              "    <tr>\n",
              "      <th>11</th>\n",
              "      <td>21</td>\n",
              "      <td>10000</td>\n",
              "      <td>2.0</td>\n",
              "      <td>4500</td>\n",
              "      <td>8.63</td>\n",
              "      <td>1</td>\n",
              "      <td>0.45</td>\n",
              "      <td>2</td>\n",
              "      <td>0</td>\n",
              "      <td>0</td>\n",
              "      <td>...</td>\n",
              "      <td>0.0</td>\n",
              "      <td>0.0</td>\n",
              "      <td>1.0</td>\n",
              "      <td>0.0</td>\n",
              "      <td>0.0</td>\n",
              "      <td>0.0</td>\n",
              "      <td>0.0</td>\n",
              "      <td>0.0</td>\n",
              "      <td>1.0</td>\n",
              "      <td>0.0</td>\n",
              "    </tr>\n",
              "    <tr>\n",
              "      <th>19</th>\n",
              "      <td>24</td>\n",
              "      <td>10800</td>\n",
              "      <td>8.0</td>\n",
              "      <td>1750</td>\n",
              "      <td>10.99</td>\n",
              "      <td>1</td>\n",
              "      <td>0.16</td>\n",
              "      <td>2</td>\n",
              "      <td>0</td>\n",
              "      <td>1</td>\n",
              "      <td>...</td>\n",
              "      <td>0.0</td>\n",
              "      <td>1.0</td>\n",
              "      <td>0.0</td>\n",
              "      <td>0.0</td>\n",
              "      <td>0.0</td>\n",
              "      <td>0.0</td>\n",
              "      <td>1.0</td>\n",
              "      <td>0.0</td>\n",
              "      <td>0.0</td>\n",
              "      <td>0.0</td>\n",
              "    </tr>\n",
              "  </tbody>\n",
              "</table>\n",
              "<p>5 rows × 31 columns</p>\n",
              "</div>\n",
              "      <button class=\"colab-df-convert\" onclick=\"convertToInteractive('df-4698731d-7ef9-4b8b-a2c2-43d68d69f0fd')\"\n",
              "              title=\"Convert this dataframe to an interactive table.\"\n",
              "              style=\"display:none;\">\n",
              "        \n",
              "  <svg xmlns=\"http://www.w3.org/2000/svg\" height=\"24px\"viewBox=\"0 0 24 24\"\n",
              "       width=\"24px\">\n",
              "    <path d=\"M0 0h24v24H0V0z\" fill=\"none\"/>\n",
              "    <path d=\"M18.56 5.44l.94 2.06.94-2.06 2.06-.94-2.06-.94-.94-2.06-.94 2.06-2.06.94zm-11 1L8.5 8.5l.94-2.06 2.06-.94-2.06-.94L8.5 2.5l-.94 2.06-2.06.94zm10 10l.94 2.06.94-2.06 2.06-.94-2.06-.94-.94-2.06-.94 2.06-2.06.94z\"/><path d=\"M17.41 7.96l-1.37-1.37c-.4-.4-.92-.59-1.43-.59-.52 0-1.04.2-1.43.59L10.3 9.45l-7.72 7.72c-.78.78-.78 2.05 0 2.83L4 21.41c.39.39.9.59 1.41.59.51 0 1.02-.2 1.41-.59l7.78-7.78 2.81-2.81c.8-.78.8-2.07 0-2.86zM5.41 20L4 18.59l7.72-7.72 1.47 1.35L5.41 20z\"/>\n",
              "  </svg>\n",
              "      </button>\n",
              "      \n",
              "  <style>\n",
              "    .colab-df-container {\n",
              "      display:flex;\n",
              "      flex-wrap:wrap;\n",
              "      gap: 12px;\n",
              "    }\n",
              "\n",
              "    .colab-df-convert {\n",
              "      background-color: #E8F0FE;\n",
              "      border: none;\n",
              "      border-radius: 50%;\n",
              "      cursor: pointer;\n",
              "      display: none;\n",
              "      fill: #1967D2;\n",
              "      height: 32px;\n",
              "      padding: 0 0 0 0;\n",
              "      width: 32px;\n",
              "    }\n",
              "\n",
              "    .colab-df-convert:hover {\n",
              "      background-color: #E2EBFA;\n",
              "      box-shadow: 0px 1px 2px rgba(60, 64, 67, 0.3), 0px 1px 3px 1px rgba(60, 64, 67, 0.15);\n",
              "      fill: #174EA6;\n",
              "    }\n",
              "\n",
              "    [theme=dark] .colab-df-convert {\n",
              "      background-color: #3B4455;\n",
              "      fill: #D2E3FC;\n",
              "    }\n",
              "\n",
              "    [theme=dark] .colab-df-convert:hover {\n",
              "      background-color: #434B5C;\n",
              "      box-shadow: 0px 1px 3px 1px rgba(0, 0, 0, 0.15);\n",
              "      filter: drop-shadow(0px 1px 2px rgba(0, 0, 0, 0.3));\n",
              "      fill: #FFFFFF;\n",
              "    }\n",
              "  </style>\n",
              "\n",
              "      <script>\n",
              "        const buttonEl =\n",
              "          document.querySelector('#df-4698731d-7ef9-4b8b-a2c2-43d68d69f0fd button.colab-df-convert');\n",
              "        buttonEl.style.display =\n",
              "          google.colab.kernel.accessAllowed ? 'block' : 'none';\n",
              "\n",
              "        async function convertToInteractive(key) {\n",
              "          const element = document.querySelector('#df-4698731d-7ef9-4b8b-a2c2-43d68d69f0fd');\n",
              "          const dataTable =\n",
              "            await google.colab.kernel.invokeFunction('convertToInteractive',\n",
              "                                                     [key], {});\n",
              "          if (!dataTable) return;\n",
              "\n",
              "          const docLinkHtml = 'Like what you see? Visit the ' +\n",
              "            '<a target=\"_blank\" href=https://colab.research.google.com/notebooks/data_table.ipynb>data table notebook</a>'\n",
              "            + ' to learn more about interactive tables.';\n",
              "          element.innerHTML = '';\n",
              "          dataTable['output_type'] = 'display_data';\n",
              "          await google.colab.output.renderOutput(dataTable, element);\n",
              "          const docLink = document.createElement('div');\n",
              "          docLink.innerHTML = docLinkHtml;\n",
              "          element.appendChild(docLink);\n",
              "        }\n",
              "      </script>\n",
              "    </div>\n",
              "  </div>\n",
              "  "
            ]
          },
          "metadata": {},
          "execution_count": 204
        }
      ]
    },
    {
      "cell_type": "markdown",
      "source": [
        "###stripping target values"
      ],
      "metadata": {
        "id": "7hDF24AbphL1"
      }
    },
    {
      "cell_type": "code",
      "source": [
        "features = New_df.drop('loan_status', 1)\n",
        "target = New_df['loan_status']"
      ],
      "metadata": {
        "id": "4hxDmszUpgbq"
      },
      "execution_count": null,
      "outputs": []
    },
    {
      "cell_type": "code",
      "source": [
        "features.shape"
      ],
      "metadata": {
        "colab": {
          "base_uri": "https://localhost:8080/"
        },
        "id": "sEYxIMwEpvye",
        "outputId": "8fbf7362-1a15-456f-8fdc-806337a1f0a6"
      },
      "execution_count": null,
      "outputs": [
        {
          "output_type": "execute_result",
          "data": {
            "text/plain": [
              "(26620, 30)"
            ]
          },
          "metadata": {},
          "execution_count": 206
        }
      ]
    },
    {
      "cell_type": "code",
      "source": [
        "target.head()"
      ],
      "metadata": {
        "colab": {
          "base_uri": "https://localhost:8080/"
        },
        "id": "xsCO1Ytjpyk1",
        "outputId": "1bf4bcc3-596b-49fd-94cd-7cbb8f004804"
      },
      "execution_count": null,
      "outputs": [
        {
          "output_type": "execute_result",
          "data": {
            "text/plain": [
              "1     0\n",
              "5     1\n",
              "9     1\n",
              "11    1\n",
              "19    1\n",
              "Name: loan_status, dtype: int64"
            ]
          },
          "metadata": {},
          "execution_count": 207
        }
      ]
    },
    {
      "cell_type": "code",
      "source": [
        "del New_df"
      ],
      "metadata": {
        "id": "YBlleeOhvm_D"
      },
      "execution_count": null,
      "outputs": []
    },
    {
      "cell_type": "markdown",
      "source": [
        "###train test split"
      ],
      "metadata": {
        "id": "6Daox8BNwSPc"
      }
    },
    {
      "cell_type": "code",
      "source": [
        "x_train, x_test, y_train, y_test = train_test_split(features, target, test_size=0.2, random_state=0)"
      ],
      "metadata": {
        "id": "16x3qWHrwTib"
      },
      "execution_count": null,
      "outputs": []
    },
    {
      "cell_type": "markdown",
      "source": [
        "###standardising data"
      ],
      "metadata": {
        "id": "v_MUyTwTwmgu"
      }
    },
    {
      "cell_type": "code",
      "source": [
        "scaler = StandardScaler()\n",
        "x_train = scaler.fit_transform(x_train)\n",
        "x_test = scaler.transform(x_test)"
      ],
      "metadata": {
        "id": "dbqMoggRwn_j"
      },
      "execution_count": null,
      "outputs": []
    },
    {
      "cell_type": "markdown",
      "source": [
        "###feature extraction"
      ],
      "metadata": {
        "id": "XqC-Cxxawy8r"
      }
    },
    {
      "cell_type": "code",
      "source": [
        "Estimator = RandomForestClassifier(n_estimators=10) \n",
        "#using random forest as the estimator for recursive feature extractor\n",
        "FeatureExtractor = RFE(estimator=Estimator, n_features_to_select=20)\n",
        "fitter = FeatureExtractor.fit(x_train, y_train)\n",
        "extracted_features = features.columns[(fitter.get_support())]"
      ],
      "metadata": {
        "id": "sduNW2DXwp-u"
      },
      "execution_count": null,
      "outputs": []
    },
    {
      "cell_type": "code",
      "source": [
        "extracted_features"
      ],
      "metadata": {
        "colab": {
          "base_uri": "https://localhost:8080/"
        },
        "id": "DxCybUFk0DH7",
        "outputId": "97a7d51b-885a-46a3-e7f9-2aa20978811f"
      },
      "execution_count": null,
      "outputs": [
        {
          "output_type": "execute_result",
          "data": {
            "text/plain": [
              "Index([                   'person_age',                 'person_income',\n",
              "                   'person_emp_length',                     'loan_amnt',\n",
              "                       'loan_int_rate',           'loan_percent_income',\n",
              "          'cb_person_cred_hist_length', 'cb_person_default_on_file_new',\n",
              "                      'loan_grade_new',               'loan_intent_new',\n",
              "           'person_home_ownership_new',                               4,\n",
              "                                     5,                               9,\n",
              "                                    10,                              11,\n",
              "                                    12,                              15,\n",
              "                                    17,                              18],\n",
              "      dtype='object')"
            ]
          },
          "metadata": {},
          "execution_count": 212
        }
      ]
    },
    {
      "cell_type": "code",
      "source": [
        "fitter.get_support()"
      ],
      "metadata": {
        "colab": {
          "base_uri": "https://localhost:8080/"
        },
        "id": "8Zv1Khei1B2a",
        "outputId": "00e3273f-4aaa-44bd-d7a2-d06aa439ba9a"
      },
      "execution_count": null,
      "outputs": [
        {
          "output_type": "execute_result",
          "data": {
            "text/plain": [
              "array([ True,  True,  True,  True,  True,  True,  True,  True,  True,\n",
              "        True,  True, False, False, False, False,  True,  True, False,\n",
              "       False, False,  True,  True,  True,  True, False, False,  True,\n",
              "       False,  True,  True])"
            ]
          },
          "metadata": {},
          "execution_count": 213
        }
      ]
    },
    {
      "cell_type": "code",
      "source": [
        "featureSelectedTrain = [row[fitter.get_support()] for row in x_train]\n",
        "featureSelectedTest = [row[fitter.get_support()] for row in x_test]"
      ],
      "metadata": {
        "id": "tQNChUUj0WRD"
      },
      "execution_count": null,
      "outputs": []
    },
    {
      "cell_type": "markdown",
      "source": [
        "###class imbalance"
      ],
      "metadata": {
        "id": "cU0hWRbRnpTR"
      }
    },
    {
      "cell_type": "code",
      "source": [
        "base_credit['loan_status'].value_counts()"
      ],
      "metadata": {
        "colab": {
          "base_uri": "https://localhost:8080/"
        },
        "id": "E6T365OZnHff",
        "outputId": "7f98aad6-1830-45da-e4db-1a95ffb5b93d"
      },
      "execution_count": null,
      "outputs": [
        {
          "output_type": "execute_result",
          "data": {
            "text/plain": [
              "0    21039\n",
              "1     5581\n",
              "Name: loan_status, dtype: int64"
            ]
          },
          "metadata": {},
          "execution_count": 215
        }
      ]
    },
    {
      "cell_type": "markdown",
      "source": [
        "####upsampling"
      ],
      "metadata": {
        "id": "SOycpx4lxW-I"
      }
    },
    {
      "cell_type": "code",
      "source": [
        "upsampler = SMOTE(random_state = 5)\n",
        "x_train_ures_SMOTE, y_train_ures_SMOTE = upsampler.fit_resample(x_train, y_train.ravel())"
      ],
      "metadata": {
        "id": "ceXqATsAxNgS"
      },
      "execution_count": null,
      "outputs": []
    },
    {
      "cell_type": "code",
      "source": [
        "print('Before OverSampling, the shape of train_X: {}'.format(x_train.shape))\n",
        "print('Before OverSampling, the shape of train_y: {} \\n'.format(y_train.shape))\n",
        "\n",
        "print('After OverSampling, the shape of train_X: {}'.format(x_train_ures_SMOTE.shape))\n",
        "print('After OverSampling, the shape of train_y: {} \\n'.format(y_train_ures_SMOTE.shape))\n",
        "\n",
        "print(\"Counts of label '0' - Before Oversampling:{}, After OverSampling: {}\".format(sum(y_train == 0),sum(y_train_ures_SMOTE == 0)))\n",
        "print(\"Counts of label '1' - Before Oversampling:{}, After OverSampling: {}\".format(sum(y_train == 1),sum(y_train_ures_SMOTE == 1)))"
      ],
      "metadata": {
        "colab": {
          "base_uri": "https://localhost:8080/"
        },
        "id": "z3jferhW3w6J",
        "outputId": "7989f1c8-0dbd-4c97-fc3e-0b3f923a3883"
      },
      "execution_count": null,
      "outputs": [
        {
          "output_type": "stream",
          "name": "stdout",
          "text": [
            "Before OverSampling, the shape of train_X: (21296, 30)\n",
            "Before OverSampling, the shape of train_y: (21296,) \n",
            "\n",
            "After OverSampling, the shape of train_X: (33616, 30)\n",
            "After OverSampling, the shape of train_y: (33616,) \n",
            "\n",
            "Counts of label '0' - Before Oversampling:16808, After OverSampling: 16808\n",
            "Counts of label '1' - Before Oversampling:4488, After OverSampling: 16808\n"
          ]
        }
      ]
    },
    {
      "cell_type": "markdown",
      "source": [
        "####downsampling"
      ],
      "metadata": {
        "id": "3Vt6-oiO3X3_"
      }
    },
    {
      "cell_type": "code",
      "source": [
        "downsampler = NeighbourhoodCleaningRule(n_neighbors=3, threshold_cleaning=0.5)\n",
        "x_train_dres, y_train_dres = downsampler.fit_resample(x_train, y_train)"
      ],
      "metadata": {
        "id": "Z99d1wlM3PGu"
      },
      "execution_count": null,
      "outputs": []
    },
    {
      "cell_type": "code",
      "source": [
        "print('Before UnderSampling, the shape of train_X: {}'.format(x_train.shape))\n",
        "print('Before UnderSampling, the shape of train_y: {} \\n'.format(y_train.shape))\n",
        "\n",
        "print('After UnderSampling, the shape of train_X: {}'.format(x_train_dres.shape))\n",
        "print('After UnderSampling, the shape of train_y: {} \\n'.format(y_train_dres.shape))\n",
        "\n",
        "print(\"Counts of label '0' - Before UnderSampling:{}, After UnderSampling: {}\".format(sum(y_train == 0),sum(y_train_dres == 0)))\n",
        "print(\"Counts of label '1' - Before UnderSampling:{}, After UnderSampling: {}\".format(sum(y_train == 1),sum(y_train_dres == 1)))\n"
      ],
      "metadata": {
        "colab": {
          "base_uri": "https://localhost:8080/"
        },
        "id": "kMpbRHYS3uxc",
        "outputId": "b957f035-c2d3-4605-b98c-26ec57a73d0b"
      },
      "execution_count": null,
      "outputs": [
        {
          "output_type": "stream",
          "name": "stdout",
          "text": [
            "Before UnderSampling, the shape of train_X: (21296, 30)\n",
            "Before UnderSampling, the shape of train_y: (21296,) \n",
            "\n",
            "After UnderSampling, the shape of train_X: (17412, 30)\n",
            "After UnderSampling, the shape of train_y: (17412,) \n",
            "\n",
            "Counts of label '0' - Before UnderSampling:16808, After UnderSampling: 12924\n",
            "Counts of label '1' - Before UnderSampling:4488, After UnderSampling: 4488\n"
          ]
        }
      ]
    },
    {
      "cell_type": "code",
      "source": [
        "x_train_dres, y_train_dres = downsampler.fit_resample(x_train_dres, y_train_dres)\n"
      ],
      "metadata": {
        "id": "4r0drT-93zCR"
      },
      "execution_count": null,
      "outputs": []
    },
    {
      "cell_type": "code",
      "source": [
        "print('Before UnderSampling, the shape of train_X: {}'.format(x_train.shape))\n",
        "print('Before UnderSampling, the shape of train_y: {} \\n'.format(y_train.shape))\n",
        "\n",
        "print('After UnderSampling, the shape of train_X: {}'.format(x_train_dres.shape))\n",
        "print('After UnderSampling, the shape of train_y: {} \\n'.format(y_train_dres.shape))\n",
        "\n",
        "print(\"Counts of label '0' - Before UnderSampling:{}, After UnderSampling: {}\".format(sum(y_train == 0),sum(y_train_dres == 0)))\n",
        "print(\"Counts of label '1' - Before UnderSampling:{}, After UnderSampling: {}\".format(sum(y_train == 1),sum(y_train_dres == 1)))\n"
      ],
      "metadata": {
        "colab": {
          "base_uri": "https://localhost:8080/"
        },
        "id": "2L4HKjDz42FG",
        "outputId": "ae719448-bc42-40d4-94f6-c9083deca99f"
      },
      "execution_count": null,
      "outputs": [
        {
          "output_type": "stream",
          "name": "stdout",
          "text": [
            "Before UnderSampling, the shape of train_X: (21296, 30)\n",
            "Before UnderSampling, the shape of train_y: (21296,) \n",
            "\n",
            "After UnderSampling, the shape of train_X: (14791, 30)\n",
            "After UnderSampling, the shape of train_y: (14791,) \n",
            "\n",
            "Counts of label '0' - Before UnderSampling:16808, After UnderSampling: 10303\n",
            "Counts of label '1' - Before UnderSampling:4488, After UnderSampling: 4488\n"
          ]
        }
      ]
    },
    {
      "cell_type": "markdown",
      "source": [
        "###PCA"
      ],
      "metadata": {
        "id": "0SmLImgJ5FFH"
      }
    },
    {
      "cell_type": "markdown",
      "source": [
        "####no resampling"
      ],
      "metadata": {
        "id": "VYTQUWnj88tD"
      }
    },
    {
      "cell_type": "code",
      "source": [
        "PCanalysis = PCA()\n",
        "x_train_pca = PCanalysis.fit_transform(x_train)\n",
        "print(\"Variance Ratio: \" ,np.cumsum(PCanalysis.explained_variance_ratio_))"
      ],
      "metadata": {
        "colab": {
          "base_uri": "https://localhost:8080/"
        },
        "id": "htddM9F28-yY",
        "outputId": "7f904f41-323b-4704-a2c1-146532e3b64b"
      },
      "execution_count": null,
      "outputs": [
        {
          "output_type": "stream",
          "name": "stdout",
          "text": [
            "Variance Ratio:  [0.16462406 0.26836134 0.34306381 0.41053816 0.47319864 0.52278867\n",
            " 0.56543052 0.60662328 0.64751193 0.68777819 0.72613252 0.76313788\n",
            " 0.79892112 0.83280874 0.86645296 0.90002942 0.93300633 0.96153991\n",
            " 0.98969758 0.99483158 0.99769644 1.         1.         1.\n",
            " 1.         1.         1.         1.         1.         1.        ]\n"
          ]
        }
      ]
    },
    {
      "cell_type": "code",
      "source": [
        "PCanalysis = PCA(19)\n",
        "X_train_pca = PCanalysis.fit_transform(x_train)\n",
        "X_test_transformed_pca = PCanalysis.transform(x_test)"
      ],
      "metadata": {
        "id": "DziZApb19LVo"
      },
      "execution_count": null,
      "outputs": []
    },
    {
      "cell_type": "code",
      "source": [
        "X_train_pca.shape"
      ],
      "metadata": {
        "colab": {
          "base_uri": "https://localhost:8080/"
        },
        "id": "HWfSUlNv9XVb",
        "outputId": "82d169fc-91b3-4940-e8b7-8bc6ea1496ab"
      },
      "execution_count": null,
      "outputs": [
        {
          "output_type": "execute_result",
          "data": {
            "text/plain": [
              "(21296, 19)"
            ]
          },
          "metadata": {},
          "execution_count": 224
        }
      ]
    },
    {
      "cell_type": "markdown",
      "source": [
        "####upsample"
      ],
      "metadata": {
        "id": "2uhUq_hM5Mgp"
      }
    },
    {
      "cell_type": "code",
      "source": [
        "PCanalysis = PCA()\n",
        "X_train_upsampled_pca = PCanalysis.fit_transform(x_train_ures_SMOTE)\n",
        "print(\"Variance Ratio: \" ,np.cumsum(PCanalysis.explained_variance_ratio_))"
      ],
      "metadata": {
        "colab": {
          "base_uri": "https://localhost:8080/"
        },
        "id": "bnW_FA_x5D6G",
        "outputId": "184b95d3-f976-475f-b65b-0a002b13e9d8"
      },
      "execution_count": null,
      "outputs": [
        {
          "output_type": "stream",
          "name": "stdout",
          "text": [
            "Variance Ratio:  [0.1706396  0.26371615 0.33450783 0.39935435 0.46100678 0.51648312\n",
            " 0.56924496 0.62118415 0.67060957 0.71142982 0.7496501  0.78569248\n",
            " 0.8198325  0.85378202 0.88736081 0.91718335 0.94534705 0.96960525\n",
            " 0.99153178 0.99554267 0.99814182 1.         1.         1.\n",
            " 1.         1.         1.         1.         1.         1.        ]\n"
          ]
        }
      ]
    },
    {
      "cell_type": "code",
      "source": [
        "print(\"Variance Ratio: \" ,np.cumsum(PCanalysis.explained_variance_ratio_[:19]))"
      ],
      "metadata": {
        "colab": {
          "base_uri": "https://localhost:8080/"
        },
        "id": "XTJesPXv5ZZr",
        "outputId": "7921fa81-6da3-4a06-e6c5-a662ee71bd8c"
      },
      "execution_count": null,
      "outputs": [
        {
          "output_type": "stream",
          "name": "stdout",
          "text": [
            "Variance Ratio:  [0.1706396  0.26371615 0.33450783 0.39935435 0.46100678 0.51648312\n",
            " 0.56924496 0.62118415 0.67060957 0.71142982 0.7496501  0.78569248\n",
            " 0.8198325  0.85378202 0.88736081 0.91718335 0.94534705 0.96960525\n",
            " 0.99153178]\n"
          ]
        }
      ]
    },
    {
      "cell_type": "code",
      "source": [
        "PCanalysis = PCA(18)\n",
        "X_train_upsampled_pca = PCanalysis.fit_transform(x_train_ures_SMOTE)\n",
        "X_test_upsampled_transformed_pca = PCanalysis.transform(x_test)"
      ],
      "metadata": {
        "id": "F7Z5bwUn5ySv"
      },
      "execution_count": null,
      "outputs": []
    },
    {
      "cell_type": "code",
      "source": [
        "X_train_upsampled_pca.shape"
      ],
      "metadata": {
        "colab": {
          "base_uri": "https://localhost:8080/"
        },
        "id": "4ZiItCNA6iQu",
        "outputId": "ece55a22-9849-4b94-ecb8-2bff653f3bd8"
      },
      "execution_count": null,
      "outputs": [
        {
          "output_type": "execute_result",
          "data": {
            "text/plain": [
              "(33616, 18)"
            ]
          },
          "metadata": {},
          "execution_count": 228
        }
      ]
    },
    {
      "cell_type": "code",
      "source": [
        "X_train_upsampled_pca[:,0].shape"
      ],
      "metadata": {
        "colab": {
          "base_uri": "https://localhost:8080/"
        },
        "id": "u0EUuNcR8Nvm",
        "outputId": "a669200d-2bd3-4c5a-d664-85cd410c6667"
      },
      "execution_count": null,
      "outputs": [
        {
          "output_type": "execute_result",
          "data": {
            "text/plain": [
              "(33616,)"
            ]
          },
          "metadata": {},
          "execution_count": 229
        }
      ]
    },
    {
      "cell_type": "code",
      "source": [
        "df1 = pd.DataFrame()\n",
        "df1[\"y\"] = y_train_ures_SMOTE\n",
        "df1[\"comp-1\"] = X_train_upsampled_pca[:,0]\n",
        "df1[\"comp-2\"] = X_train_upsampled_pca[:,1]\n",
        "\n",
        "sns.scatterplot(x=\"comp-1\", y=\"comp-2\", hue=df1.y.tolist(),\n",
        "                palette=sns.color_palette(\"hls\", 2),\n",
        "                data=df1).set(title=\" data PCA projection\") "
      ],
      "metadata": {
        "colab": {
          "base_uri": "https://localhost:8080/"
        },
        "id": "e2U406Vm7qjB",
        "outputId": "fe20fafd-1691-493d-c595-e0c80ce7978c"
      },
      "execution_count": null,
      "outputs": [
        {
          "output_type": "execute_result",
          "data": {
            "text/plain": [
              "[Text(0.5, 1.0, ' data PCA projection')]"
            ]
          },
          "metadata": {},
          "execution_count": 230
        },
        {
          "output_type": "display_data",
          "data": {
            "text/plain": [
              "<Figure size 432x288 with 1 Axes>"
            ],
            "image/png": "[encoded data removed]"
          },
          "metadata": {
            "needs_background": "light"
          }
        }
      ]
    },
    {
      "cell_type": "markdown",
      "source": [
        "####downsample"
      ],
      "metadata": {
        "id": "WK9vmTpZ6s0U"
      }
    },
    {
      "cell_type": "code",
      "source": [
        "PCanalysis = PCA()\n",
        "x_train_downlsampled_pca = PCanalysis.fit_transform(x_train_dres)\n",
        "print(\"Variance Ratio: \" ,np.cumsum(PCanalysis.explained_variance_ratio_))"
      ],
      "metadata": {
        "colab": {
          "base_uri": "https://localhost:8080/"
        },
        "id": "V-XhBLvz6mti",
        "outputId": "b3c77433-f394-40ca-cb30-dbe6a1ff8ed8"
      },
      "execution_count": null,
      "outputs": [
        {
          "output_type": "stream",
          "name": "stdout",
          "text": [
            "Variance Ratio:  [0.16556667 0.26633271 0.34416746 0.41148759 0.47422642 0.52539041\n",
            " 0.5708905  0.61547237 0.6573917  0.69872595 0.73716549 0.77403486\n",
            " 0.81002263 0.8455647  0.87971811 0.91263    0.94122848 0.96579978\n",
            " 0.98906597 0.9942807  0.99761155 1.         1.         1.\n",
            " 1.         1.         1.         1.         1.         1.        ]\n"
          ]
        }
      ]
    },
    {
      "cell_type": "code",
      "source": [
        "print(\"Variance Ratio: \" ,np.cumsum(PCanalysis.explained_variance_ratio_[:19]))"
      ],
      "metadata": {
        "colab": {
          "base_uri": "https://localhost:8080/"
        },
        "id": "BITuixlt67GH",
        "outputId": "2ab8d903-67db-44a9-984e-a0e185b16cb7"
      },
      "execution_count": null,
      "outputs": [
        {
          "output_type": "stream",
          "name": "stdout",
          "text": [
            "Variance Ratio:  [0.16556667 0.26633271 0.34416746 0.41148759 0.47422642 0.52539041\n",
            " 0.5708905  0.61547237 0.6573917  0.69872595 0.73716549 0.77403486\n",
            " 0.81002263 0.8455647  0.87971811 0.91263    0.94122848 0.96579978\n",
            " 0.98906597]\n"
          ]
        }
      ]
    },
    {
      "cell_type": "code",
      "source": [
        "PCanalysis = PCA(n_components=18)\n",
        "x_train_downsampled_pca = PCanalysis.fit_transform(x_train_dres)\n",
        "x_test_downsampled_transformed_pca = PCanalysis.transform(x_test)\n"
      ],
      "metadata": {
        "id": "D2DM44Ez7G8G"
      },
      "execution_count": null,
      "outputs": []
    },
    {
      "cell_type": "code",
      "source": [
        "x_train_downsampled_pca.shape"
      ],
      "metadata": {
        "colab": {
          "base_uri": "https://localhost:8080/"
        },
        "id": "rM7SIrrD75fG",
        "outputId": "30c8b851-a801-4bde-9a51-6b83f47ea320"
      },
      "execution_count": null,
      "outputs": [
        {
          "output_type": "execute_result",
          "data": {
            "text/plain": [
              "(14791, 18)"
            ]
          },
          "metadata": {},
          "execution_count": 234
        }
      ]
    },
    {
      "cell_type": "code",
      "source": [
        "df = pd.DataFrame()\n",
        "df[\"y\"] = y_train_dres\n",
        "df[\"comp-1\"] = x_train_downsampled_pca[:,0]\n",
        "df[\"comp-2\"] = x_train_downsampled_pca[:,1]\n",
        "\n",
        "sns.scatterplot(x=\"comp-1\", y=\"comp-2\", hue=df.y.tolist(),\n",
        "                palette=sns.color_palette(\"hls\", 2),\n",
        "                data=df).set(title=\" data PCA projection\") "
      ],
      "metadata": {
        "colab": {
          "base_uri": "https://localhost:8080/"
        },
        "id": "Qe7U5ulU7hcb",
        "outputId": "94fab1f8-6420-44f1-ca89-219d09ad2a2d"
      },
      "execution_count": null,
      "outputs": [
        {
          "output_type": "execute_result",
          "data": {
            "text/plain": [
              "[Text(0.5, 1.0, ' data PCA projection')]"
            ]
          },
          "metadata": {},
          "execution_count": 235
        },
        {
          "output_type": "display_data",
          "data": {
            "text/plain": [
              "<Figure size 432x288 with 1 Axes>"
            ],
            "image/png": "[encoded data removed]"
          },
          "metadata": {
            "needs_background": "light"
          }
        }
      ]
    },
    {
      "cell_type": "markdown",
      "source": [
        "##Models"
      ],
      "metadata": {
        "id": "lMjexNL18rKU"
      }
    },
    {
      "cell_type": "code",
      "source": [
        "\n",
        "from sklearn.model_selection import StratifiedKFold\n",
        "from sklearn.model_selection import GridSearchCV\n",
        "from sklearn.linear_model import LogisticRegression\n",
        "from sklearn.metrics import make_scorer\n",
        "from sklearn.metrics import accuracy_score"
      ],
      "metadata": {
        "id": "LI2sbyll-GFE"
      },
      "execution_count": null,
      "outputs": []
    },
    {
      "cell_type": "code",
      "source": [
        "def scores(y_test, y_prediction):\n",
        "  print('Analysis of the Algorithm:\\n')\n",
        "  print(confusion_matrix(y_test, y_prediction))\n",
        "  print(confusion_matrix(y_test, y_prediction))\n",
        "  print(classification_report(y_test, y_prediction))\n",
        "  print('Accuracy:',accuracy_score(y_test, y_prediction))\n",
        "  print('Precision:',precision_score(y_test, y_prediction, average='weighted'))\n",
        "  print('Recall:',recall_score(y_test, y_prediction, average='weighted'))\n",
        "  print('F1 Score:',f1_score(y_test, y_prediction, average='weighted'))"
      ],
      "metadata": {
        "id": "gO4_nE_F_NYv"
      },
      "execution_count": null,
      "outputs": []
    },
    {
      "cell_type": "code",
      "source": [
        "def roc(y_test, y_prediction):\n",
        "  falsePositiveRate = dict()\n",
        "  truePositiveRate = dict()\n",
        "  threshold = dict()\n",
        "\n",
        "  for i in range(6):    \n",
        "      falsePositiveRate[i], truePositiveRate[i], threshold[i] = roc_curve(y_test, y_prediction, pos_label=i)\n",
        "\n",
        "  plt.plot(falsePositiveRate[0], truePositiveRate[0], linestyle='--',color='blue', label='Class 0 vs Rest')\n",
        "  plt.plot(falsePositiveRate[1], truePositiveRate[1], linestyle='--',color='yellow', label='Class 1 vs Rest')\n",
        "\n",
        "  plt.title('Multiclass ROC curve')\n",
        "  plt.xlabel('False Positive Rate')\n",
        "  plt.ylabel('True Positive rate')\n",
        "  plt.legend(loc='best')\n",
        "  plt.savefig('Multiclass ROC curve for LR ',dpi=300)"
      ],
      "metadata": {
        "id": "M9QuN3RQ_s_9"
      },
      "execution_count": null,
      "outputs": []
    },
    {
      "cell_type": "code",
      "source": [
        "# summarize results\n",
        "def results(grid_result):\n",
        "  print(\"Best: %f using %s\" % (grid_result.best_score_, grid_result.best_params_))\n",
        "  means = grid_result.cv_results_['mean_test_score']\n",
        "  stds = grid_result.cv_results_['std_test_score']\n",
        "  params = grid_result.cv_results_['params']\n",
        "  for mean, stdev, param in zip(means, stds, params):\n",
        "      print(\"%f (%f) with: %r\" % (mean, stdev, param))"
      ],
      "metadata": {
        "id": "Uw_MJW_--nNT"
      },
      "execution_count": null,
      "outputs": []
    },
    {
      "cell_type": "code",
      "source": [
        "resultDic={}"
      ],
      "metadata": {
        "id": "_bA8CxGHWxlf"
      },
      "execution_count": null,
      "outputs": []
    },
    {
      "cell_type": "markdown",
      "source": [
        "##LR Model with GridsearchCV"
      ],
      "metadata": {
        "id": "QWP_VZL3BYPo"
      }
    },
    {
      "cell_type": "code",
      "source": [
        "def LR(x_train, y_train):\n",
        "  model = LogisticRegression()\n",
        "  solver=['saga']\n",
        "  penalty = ['l2', 'l1']\n",
        "  c_values = [100, 10, 1.0, 0.1, 0.01]\n",
        "  \n",
        "  # define grid search\n",
        "  grid = dict(solver=solver,penalty=penalty,C=c_values)\n",
        "  cv = StratifiedKFold(n_splits=5, shuffle=True, random_state=1)\n",
        "  grid_search = GridSearchCV(estimator=model, param_grid=grid, n_jobs=-1, cv=cv, scoring=make_scorer(recall_score, average='weighted'), error_score=0)\n",
        "  grid_result = grid_search.fit(x_train, y_train)\n",
        "  return grid_result"
      ],
      "metadata": {
        "id": "I60NEEv78sZK"
      },
      "execution_count": null,
      "outputs": []
    },
    {
      "cell_type": "code",
      "source": [
        "LRresult={}"
      ],
      "metadata": {
        "id": "kWrBwj-vW3k1"
      },
      "execution_count": null,
      "outputs": []
    },
    {
      "cell_type": "markdown",
      "source": [
        "###Logistic Regression without resampling"
      ],
      "metadata": {
        "id": "XuMnDlG98t52"
      }
    },
    {
      "cell_type": "code",
      "source": [
        "grid_result = LR(x_train, y_train)"
      ],
      "metadata": {
        "id": "_pcuO0txBN4Q"
      },
      "execution_count": null,
      "outputs": []
    },
    {
      "cell_type": "code",
      "source": [
        "results(grid_result)"
      ],
      "metadata": {
        "colab": {
          "base_uri": "https://localhost:8080/"
        },
        "id": "GILcktO0AsHM",
        "outputId": "1094c56d-240f-4502-c417-f51b4b446990"
      },
      "execution_count": null,
      "outputs": [
        {
          "output_type": "stream",
          "name": "stdout",
          "text": [
            "Best: 0.868426 using {'C': 1.0, 'penalty': 'l2', 'solver': 'saga'}\n",
            "0.868379 (0.001422) with: {'C': 100, 'penalty': 'l2', 'solver': 'saga'}\n",
            "0.868379 (0.001422) with: {'C': 100, 'penalty': 'l1', 'solver': 'saga'}\n",
            "0.868379 (0.001422) with: {'C': 10, 'penalty': 'l2', 'solver': 'saga'}\n",
            "0.868379 (0.001422) with: {'C': 10, 'penalty': 'l1', 'solver': 'saga'}\n",
            "0.868426 (0.001498) with: {'C': 1.0, 'penalty': 'l2', 'solver': 'saga'}\n",
            "0.868379 (0.001422) with: {'C': 1.0, 'penalty': 'l1', 'solver': 'saga'}\n",
            "0.868191 (0.001611) with: {'C': 0.1, 'penalty': 'l2', 'solver': 'saga'}\n",
            "0.867957 (0.001690) with: {'C': 0.1, 'penalty': 'l1', 'solver': 'saga'}\n",
            "0.866876 (0.001351) with: {'C': 0.01, 'penalty': 'l2', 'solver': 'saga'}\n",
            "0.864810 (0.002488) with: {'C': 0.01, 'penalty': 'l1', 'solver': 'saga'}\n"
          ]
        }
      ]
    },
    {
      "cell_type": "code",
      "source": [
        "y_prediction = grid_result.predict(x_test)\n",
        "scores(y_test, y_prediction)\n",
        "LRresult['LR1']= recall_score(y_test, y_prediction, average=None)[1]\n",
        "print('testing recall Score for class1:',LRresult['LR1'])"
      ],
      "metadata": {
        "colab": {
          "base_uri": "https://localhost:8080/"
        },
        "id": "sZTtRrSU_HQI",
        "outputId": "bd90f51f-fdf1-4a45-f7f0-96e80ec419a7"
      },
      "execution_count": null,
      "outputs": [
        {
          "output_type": "stream",
          "name": "stdout",
          "text": [
            "Analysis of the Algorithm:\n",
            "\n",
            "[[4015  216]\n",
            " [ 495  598]]\n",
            "[[4015  216]\n",
            " [ 495  598]]\n",
            "              precision    recall  f1-score   support\n",
            "\n",
            "           0       0.89      0.95      0.92      4231\n",
            "           1       0.73      0.55      0.63      1093\n",
            "\n",
            "    accuracy                           0.87      5324\n",
            "   macro avg       0.81      0.75      0.77      5324\n",
            "weighted avg       0.86      0.87      0.86      5324\n",
            "\n",
            "Accuracy: 0.8664537941397445\n",
            "Precision: 0.8582996906809005\n",
            "Recall: 0.8664537941397445\n",
            "F1 Score: 0.8588159828706913\n",
            "testing recall Score for class1: 0.5471180237877402\n"
          ]
        }
      ]
    },
    {
      "cell_type": "code",
      "source": [
        "y_pre = grid_result.predict(x_train)\n",
        "print('training recall Score for class1:',recall_score(y_train, y_pre, average=None)[1])"
      ],
      "metadata": {
        "colab": {
          "base_uri": "https://localhost:8080/"
        },
        "id": "0vkTRaqbFGP-",
        "outputId": "bbe9ce13-5140-42b8-9ba0-3557ee6aa0f1"
      },
      "execution_count": null,
      "outputs": [
        {
          "output_type": "stream",
          "name": "stdout",
          "text": [
            "training recall Score for class1: 0.5479055258467023\n"
          ]
        }
      ]
    },
    {
      "cell_type": "code",
      "source": [
        "roc(y_test, y_prediction)"
      ],
      "metadata": {
        "colab": {
          "base_uri": "https://localhost:8080/",
          "height": 295
        },
        "id": "cm4f5T7NAPyf",
        "outputId": "9f6290c3-fe75-44d0-8e2d-fabe3ad66628"
      },
      "execution_count": null,
      "outputs": [
        {
          "output_type": "display_data",
          "data": {
            "text/plain": [
              "<Figure size 432x288 with 1 Axes>"
            ],
            "image/png": "[encoded data removed]"
          },
          "metadata": {
            "needs_background": "light"
          }
        }
      ]
    },
    {
      "cell_type": "markdown",
      "source": [
        "###Logistic Regression without resampling and pca"
      ],
      "metadata": {
        "id": "alMai93gA2D5"
      }
    },
    {
      "cell_type": "code",
      "source": [
        "grid_result = LR(x_train_pca, y_train)"
      ],
      "metadata": {
        "id": "-OKyGBf2AeVn"
      },
      "execution_count": null,
      "outputs": []
    },
    {
      "cell_type": "code",
      "source": [
        "results(grid_result)"
      ],
      "metadata": {
        "colab": {
          "base_uri": "https://localhost:8080/"
        },
        "id": "xaawptiKBoLO",
        "outputId": "bbd317b4-7a0d-4002-d6bb-487584aa9307"
      },
      "execution_count": null,
      "outputs": [
        {
          "output_type": "stream",
          "name": "stdout",
          "text": [
            "Best: 0.868426 using {'C': 0.1, 'penalty': 'l1', 'solver': 'saga'}\n",
            "0.868379 (0.001422) with: {'C': 100, 'penalty': 'l2', 'solver': 'saga'}\n",
            "0.868379 (0.001422) with: {'C': 100, 'penalty': 'l1', 'solver': 'saga'}\n",
            "0.868379 (0.001422) with: {'C': 10, 'penalty': 'l2', 'solver': 'saga'}\n",
            "0.868379 (0.001422) with: {'C': 10, 'penalty': 'l1', 'solver': 'saga'}\n",
            "0.868426 (0.001498) with: {'C': 1.0, 'penalty': 'l2', 'solver': 'saga'}\n",
            "0.868379 (0.001521) with: {'C': 1.0, 'penalty': 'l1', 'solver': 'saga'}\n",
            "0.868191 (0.001611) with: {'C': 0.1, 'penalty': 'l2', 'solver': 'saga'}\n",
            "0.868426 (0.001758) with: {'C': 0.1, 'penalty': 'l1', 'solver': 'saga'}\n",
            "0.866876 (0.001351) with: {'C': 0.01, 'penalty': 'l2', 'solver': 'saga'}\n",
            "0.865562 (0.001774) with: {'C': 0.01, 'penalty': 'l1', 'solver': 'saga'}\n"
          ]
        }
      ]
    },
    {
      "cell_type": "code",
      "source": [
        "y_prediction = grid_result.predict(x_test)\n",
        "scores(y_test, y_prediction)\n",
        "LRresult['LR2']= recall_score(y_test, y_prediction, average=None)[1]\n",
        "print(\"Class 1 recall score on test data:\", LRresult['LR2'])"
      ],
      "metadata": {
        "colab": {
          "base_uri": "https://localhost:8080/"
        },
        "id": "hn6hilHXBqqJ",
        "outputId": "f9075549-9a90-462d-e3ce-af3fa59c032a"
      },
      "execution_count": null,
      "outputs": [
        {
          "output_type": "stream",
          "name": "stdout",
          "text": [
            "Analysis of the Algorithm:\n",
            "\n",
            "[[3707  524]\n",
            " [ 789  304]]\n",
            "[[3707  524]\n",
            " [ 789  304]]\n",
            "              precision    recall  f1-score   support\n",
            "\n",
            "           0       0.82      0.88      0.85      4231\n",
            "           1       0.37      0.28      0.32      1093\n",
            "\n",
            "    accuracy                           0.75      5324\n",
            "   macro avg       0.60      0.58      0.58      5324\n",
            "weighted avg       0.73      0.75      0.74      5324\n",
            "\n",
            "Accuracy: 0.7533809166040571\n",
            "Precision: 0.7306159573269803\n",
            "Recall: 0.7533809166040571\n",
            "F1 Score: 0.7401148503638109\n",
            "Class 1 recall score on test data: 0.27813357731015553\n"
          ]
        }
      ]
    },
    {
      "cell_type": "code",
      "source": [
        "y_pre = grid_result.predict(x_train_pca)\n",
        "print('training accuracy Score:',recall_score(y_train, y_pre))"
      ],
      "metadata": {
        "colab": {
          "base_uri": "https://localhost:8080/"
        },
        "id": "e_pqALR6GBZl",
        "outputId": "f5e183bc-16ba-4626-ac91-c9ed8b3c41d0"
      },
      "execution_count": null,
      "outputs": [
        {
          "output_type": "stream",
          "name": "stdout",
          "text": [
            "training accuracy Score: 0.5452317290552585\n"
          ]
        }
      ]
    },
    {
      "cell_type": "code",
      "source": [
        "roc(y_test, y_prediction)"
      ],
      "metadata": {
        "colab": {
          "base_uri": "https://localhost:8080/",
          "height": 295
        },
        "id": "UwS5ArZuBtm6",
        "outputId": "3ad4264f-0022-46ba-80ab-2b5f689b3b12"
      },
      "execution_count": null,
      "outputs": [
        {
          "output_type": "display_data",
          "data": {
            "text/plain": [
              "<Figure size 432x288 with 1 Axes>"
            ],
            "image/png": "[encoded data removed]"
          },
          "metadata": {
            "needs_background": "light"
          }
        }
      ]
    }
  ]
}